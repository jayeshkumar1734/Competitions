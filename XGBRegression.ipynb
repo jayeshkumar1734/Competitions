{
  "nbformat": 4,
  "nbformat_minor": 0,
  "metadata": {
    "colab": {
      "name": "XGBRegression.ipynb",
      "provenance": [],
      "collapsed_sections": [],
      "machine_shape": "hm"
    },
    "kernelspec": {
      "name": "python3",
      "display_name": "Python 3"
    }
  },
  "cells": [
    {
      "cell_type": "code",
      "metadata": {
        "id": "NPQtqAVwr32X"
      },
      "source": [
        "import numpy as np # linear algebra\n",
        "import pandas as pd # data processing, CSV file I/O (e.g. pd.read_csv)\n",
        "import xgboost\n",
        "import csv as csv\n",
        "from xgboost import plot_importance\n",
        "from matplotlib import pyplot\n",
        "from sklearn.model_selection import cross_val_score,KFold\n",
        "from sklearn.model_selection import  train_test_split\n",
        "from sklearn.metrics import mean_absolute_error\n",
        "import matplotlib.pyplot as plt\n",
        "#from sklearn.grid_search import GridSearchCV   #Perforing grid search\n",
        "#from scipy.stats import skew\n",
        "#from collections import OrderedDict\n",
        "import statistics"
      ],
      "execution_count": null,
      "outputs": []
    },
    {
      "cell_type": "code",
      "metadata": {
        "id": "VqQQKDSttNXb",
        "colab": {
          "base_uri": "https://localhost:8080/",
          "height": 34
        },
        "outputId": "cdb40e07-b315-46a5-ce79-002875eaeff2"
      },
      "source": [
        "from google.colab import drive\n",
        "drive.mount('/content/drive')"
      ],
      "execution_count": null,
      "outputs": [
        {
          "output_type": "stream",
          "text": [
            "Drive already mounted at /content/drive; to attempt to forcibly remount, call drive.mount(\"/content/drive\", force_remount=True).\n"
          ],
          "name": "stdout"
        }
      ]
    },
    {
      "cell_type": "code",
      "metadata": {
        "id": "HO2OJIc1tSuq"
      },
      "source": [
        "path1=\"/content/drive/My Drive/KAGGLE/analyticsclubprojecttask/train.csv\"\n",
        "df_train=pd.read_csv(path1)\n",
        "path2=\"/content/drive/My Drive/KAGGLE/analyticsclubprojecttask/test.csv\"\n",
        "df_test=pd.read_csv(path2)"
      ],
      "execution_count": null,
      "outputs": []
    },
    {
      "cell_type": "code",
      "metadata": {
        "id": "u4flVXj4thYE"
      },
      "source": [
        "train=df_train.copy()\n",
        "val=df_test.copy()\n",
        "#train_lat=df_train.copy()"
      ],
      "execution_count": null,
      "outputs": []
    },
    {
      "cell_type": "code",
      "metadata": {
        "id": "p2yGG_elt1js",
        "colab": {
          "base_uri": "https://localhost:8080/",
          "height": 215
        },
        "outputId": "36f78c80-a14a-4ea3-e1fd-a69d92e14b29"
      },
      "source": [
        "val[\"zipcode\"]=val[\"zipcode\"]-val[\"zipcode\"].min()\n",
        "val=val.sort_values(by=['zipcode'])\n",
        "#val[\"zipcode\"]=train[\"zipcode\"]\n",
        "val.head()"
      ],
      "execution_count": null,
      "outputs": [
        {
          "output_type": "execute_result",
          "data": {
            "text/html": [
              "<div>\n",
              "<style scoped>\n",
              "    .dataframe tbody tr th:only-of-type {\n",
              "        vertical-align: middle;\n",
              "    }\n",
              "\n",
              "    .dataframe tbody tr th {\n",
              "        vertical-align: top;\n",
              "    }\n",
              "\n",
              "    .dataframe thead th {\n",
              "        text-align: right;\n",
              "    }\n",
              "</style>\n",
              "<table border=\"1\" class=\"dataframe\">\n",
              "  <thead>\n",
              "    <tr style=\"text-align: right;\">\n",
              "      <th></th>\n",
              "      <th>id</th>\n",
              "      <th>date</th>\n",
              "      <th>bedrooms</th>\n",
              "      <th>sqft_living</th>\n",
              "      <th>sqft_lot</th>\n",
              "      <th>floors</th>\n",
              "      <th>waterfront</th>\n",
              "      <th>condition</th>\n",
              "      <th>grade</th>\n",
              "      <th>sqft_above</th>\n",
              "      <th>sqft_basement</th>\n",
              "      <th>yr_built</th>\n",
              "      <th>yr_renovated</th>\n",
              "      <th>zipcode</th>\n",
              "      <th>lat</th>\n",
              "      <th>long</th>\n",
              "      <th>sqft_living15</th>\n",
              "      <th>sqft_lot15</th>\n",
              "    </tr>\n",
              "  </thead>\n",
              "  <tbody>\n",
              "    <tr>\n",
              "      <th>2909</th>\n",
              "      <td>1311800220</td>\n",
              "      <td>2/18/2015</td>\n",
              "      <td>4</td>\n",
              "      <td>1450</td>\n",
              "      <td>7560</td>\n",
              "      <td>1.0</td>\n",
              "      <td>0</td>\n",
              "      <td>3</td>\n",
              "      <td>7</td>\n",
              "      <td>1450</td>\n",
              "      <td>0</td>\n",
              "      <td>1967</td>\n",
              "      <td>0</td>\n",
              "      <td>0</td>\n",
              "      <td>47.3375</td>\n",
              "      <td>-122.276</td>\n",
              "      <td>1430</td>\n",
              "      <td>7560</td>\n",
              "    </tr>\n",
              "    <tr>\n",
              "      <th>1574</th>\n",
              "      <td>3750605620</td>\n",
              "      <td>3/24/2015</td>\n",
              "      <td>3</td>\n",
              "      <td>1580</td>\n",
              "      <td>14400</td>\n",
              "      <td>1.0</td>\n",
              "      <td>0</td>\n",
              "      <td>4</td>\n",
              "      <td>7</td>\n",
              "      <td>1580</td>\n",
              "      <td>0</td>\n",
              "      <td>1981</td>\n",
              "      <td>0</td>\n",
              "      <td>0</td>\n",
              "      <td>47.2598</td>\n",
              "      <td>-122.281</td>\n",
              "      <td>1480</td>\n",
              "      <td>9600</td>\n",
              "    </tr>\n",
              "    <tr>\n",
              "      <th>2833</th>\n",
              "      <td>2154900330</td>\n",
              "      <td>8/27/2014</td>\n",
              "      <td>4</td>\n",
              "      <td>1820</td>\n",
              "      <td>8217</td>\n",
              "      <td>1.0</td>\n",
              "      <td>0</td>\n",
              "      <td>3</td>\n",
              "      <td>7</td>\n",
              "      <td>1120</td>\n",
              "      <td>700</td>\n",
              "      <td>1987</td>\n",
              "      <td>0</td>\n",
              "      <td>0</td>\n",
              "      <td>47.2630</td>\n",
              "      <td>-122.242</td>\n",
              "      <td>1310</td>\n",
              "      <td>8217</td>\n",
              "    </tr>\n",
              "    <tr>\n",
              "      <th>311</th>\n",
              "      <td>1311100520</td>\n",
              "      <td>4/14/2015</td>\n",
              "      <td>4</td>\n",
              "      <td>1730</td>\n",
              "      <td>8400</td>\n",
              "      <td>1.0</td>\n",
              "      <td>0</td>\n",
              "      <td>3</td>\n",
              "      <td>7</td>\n",
              "      <td>1730</td>\n",
              "      <td>0</td>\n",
              "      <td>1962</td>\n",
              "      <td>0</td>\n",
              "      <td>0</td>\n",
              "      <td>47.3386</td>\n",
              "      <td>-122.288</td>\n",
              "      <td>1550</td>\n",
              "      <td>7920</td>\n",
              "    </tr>\n",
              "    <tr>\n",
              "      <th>3088</th>\n",
              "      <td>3751602249</td>\n",
              "      <td>3/5/2015</td>\n",
              "      <td>4</td>\n",
              "      <td>1340</td>\n",
              "      <td>7920</td>\n",
              "      <td>1.0</td>\n",
              "      <td>0</td>\n",
              "      <td>4</td>\n",
              "      <td>7</td>\n",
              "      <td>1340</td>\n",
              "      <td>0</td>\n",
              "      <td>1970</td>\n",
              "      <td>0</td>\n",
              "      <td>0</td>\n",
              "      <td>47.2845</td>\n",
              "      <td>-122.267</td>\n",
              "      <td>1090</td>\n",
              "      <td>9600</td>\n",
              "    </tr>\n",
              "  </tbody>\n",
              "</table>\n",
              "</div>"
            ],
            "text/plain": [
              "              id       date  bedrooms  ...     long  sqft_living15  sqft_lot15\n",
              "2909  1311800220  2/18/2015         4  ... -122.276           1430        7560\n",
              "1574  3750605620  3/24/2015         3  ... -122.281           1480        9600\n",
              "2833  2154900330  8/27/2014         4  ... -122.242           1310        8217\n",
              "311   1311100520  4/14/2015         4  ... -122.288           1550        7920\n",
              "3088  3751602249   3/5/2015         4  ... -122.267           1090        9600\n",
              "\n",
              "[5 rows x 18 columns]"
            ]
          },
          "metadata": {
            "tags": []
          },
          "execution_count": 5
        }
      ]
    },
    {
      "cell_type": "code",
      "metadata": {
        "id": "2Dx479SKtni9",
        "colab": {
          "base_uri": "https://localhost:8080/",
          "height": 195
        },
        "outputId": "91fa197b-c480-4e7e-9d41-ae542a149d71"
      },
      "source": [
        "train=train.drop('id',axis=1)\n",
        "\n",
        "val1=pd.DataFrame(val[\"id\"])\n",
        "val=val.drop('id',axis=1)\n",
        "val1.head()"
      ],
      "execution_count": null,
      "outputs": [
        {
          "output_type": "execute_result",
          "data": {
            "text/html": [
              "<div>\n",
              "<style scoped>\n",
              "    .dataframe tbody tr th:only-of-type {\n",
              "        vertical-align: middle;\n",
              "    }\n",
              "\n",
              "    .dataframe tbody tr th {\n",
              "        vertical-align: top;\n",
              "    }\n",
              "\n",
              "    .dataframe thead th {\n",
              "        text-align: right;\n",
              "    }\n",
              "</style>\n",
              "<table border=\"1\" class=\"dataframe\">\n",
              "  <thead>\n",
              "    <tr style=\"text-align: right;\">\n",
              "      <th></th>\n",
              "      <th>id</th>\n",
              "    </tr>\n",
              "  </thead>\n",
              "  <tbody>\n",
              "    <tr>\n",
              "      <th>2909</th>\n",
              "      <td>1311800220</td>\n",
              "    </tr>\n",
              "    <tr>\n",
              "      <th>1574</th>\n",
              "      <td>3750605620</td>\n",
              "    </tr>\n",
              "    <tr>\n",
              "      <th>2833</th>\n",
              "      <td>2154900330</td>\n",
              "    </tr>\n",
              "    <tr>\n",
              "      <th>311</th>\n",
              "      <td>1311100520</td>\n",
              "    </tr>\n",
              "    <tr>\n",
              "      <th>3088</th>\n",
              "      <td>3751602249</td>\n",
              "    </tr>\n",
              "  </tbody>\n",
              "</table>\n",
              "</div>"
            ],
            "text/plain": [
              "              id\n",
              "2909  1311800220\n",
              "1574  3750605620\n",
              "2833  2154900330\n",
              "311   1311100520\n",
              "3088  3751602249"
            ]
          },
          "metadata": {
            "tags": []
          },
          "execution_count": 6
        }
      ]
    },
    {
      "cell_type": "code",
      "metadata": {
        "id": "RaRFy2aYtkXV",
        "colab": {
          "base_uri": "https://localhost:8080/",
          "height": 215
        },
        "outputId": "1d3db291-cbd1-4210-a333-fc767518dc06"
      },
      "source": [
        "val.head()"
      ],
      "execution_count": null,
      "outputs": [
        {
          "output_type": "execute_result",
          "data": {
            "text/html": [
              "<div>\n",
              "<style scoped>\n",
              "    .dataframe tbody tr th:only-of-type {\n",
              "        vertical-align: middle;\n",
              "    }\n",
              "\n",
              "    .dataframe tbody tr th {\n",
              "        vertical-align: top;\n",
              "    }\n",
              "\n",
              "    .dataframe thead th {\n",
              "        text-align: right;\n",
              "    }\n",
              "</style>\n",
              "<table border=\"1\" class=\"dataframe\">\n",
              "  <thead>\n",
              "    <tr style=\"text-align: right;\">\n",
              "      <th></th>\n",
              "      <th>date</th>\n",
              "      <th>bedrooms</th>\n",
              "      <th>sqft_living</th>\n",
              "      <th>sqft_lot</th>\n",
              "      <th>floors</th>\n",
              "      <th>waterfront</th>\n",
              "      <th>condition</th>\n",
              "      <th>grade</th>\n",
              "      <th>sqft_above</th>\n",
              "      <th>sqft_basement</th>\n",
              "      <th>yr_built</th>\n",
              "      <th>yr_renovated</th>\n",
              "      <th>zipcode</th>\n",
              "      <th>lat</th>\n",
              "      <th>long</th>\n",
              "      <th>sqft_living15</th>\n",
              "      <th>sqft_lot15</th>\n",
              "    </tr>\n",
              "  </thead>\n",
              "  <tbody>\n",
              "    <tr>\n",
              "      <th>2909</th>\n",
              "      <td>2/18/2015</td>\n",
              "      <td>4</td>\n",
              "      <td>1450</td>\n",
              "      <td>7560</td>\n",
              "      <td>1.0</td>\n",
              "      <td>0</td>\n",
              "      <td>3</td>\n",
              "      <td>7</td>\n",
              "      <td>1450</td>\n",
              "      <td>0</td>\n",
              "      <td>1967</td>\n",
              "      <td>0</td>\n",
              "      <td>0</td>\n",
              "      <td>47.3375</td>\n",
              "      <td>-122.276</td>\n",
              "      <td>1430</td>\n",
              "      <td>7560</td>\n",
              "    </tr>\n",
              "    <tr>\n",
              "      <th>1574</th>\n",
              "      <td>3/24/2015</td>\n",
              "      <td>3</td>\n",
              "      <td>1580</td>\n",
              "      <td>14400</td>\n",
              "      <td>1.0</td>\n",
              "      <td>0</td>\n",
              "      <td>4</td>\n",
              "      <td>7</td>\n",
              "      <td>1580</td>\n",
              "      <td>0</td>\n",
              "      <td>1981</td>\n",
              "      <td>0</td>\n",
              "      <td>0</td>\n",
              "      <td>47.2598</td>\n",
              "      <td>-122.281</td>\n",
              "      <td>1480</td>\n",
              "      <td>9600</td>\n",
              "    </tr>\n",
              "    <tr>\n",
              "      <th>2833</th>\n",
              "      <td>8/27/2014</td>\n",
              "      <td>4</td>\n",
              "      <td>1820</td>\n",
              "      <td>8217</td>\n",
              "      <td>1.0</td>\n",
              "      <td>0</td>\n",
              "      <td>3</td>\n",
              "      <td>7</td>\n",
              "      <td>1120</td>\n",
              "      <td>700</td>\n",
              "      <td>1987</td>\n",
              "      <td>0</td>\n",
              "      <td>0</td>\n",
              "      <td>47.2630</td>\n",
              "      <td>-122.242</td>\n",
              "      <td>1310</td>\n",
              "      <td>8217</td>\n",
              "    </tr>\n",
              "    <tr>\n",
              "      <th>311</th>\n",
              "      <td>4/14/2015</td>\n",
              "      <td>4</td>\n",
              "      <td>1730</td>\n",
              "      <td>8400</td>\n",
              "      <td>1.0</td>\n",
              "      <td>0</td>\n",
              "      <td>3</td>\n",
              "      <td>7</td>\n",
              "      <td>1730</td>\n",
              "      <td>0</td>\n",
              "      <td>1962</td>\n",
              "      <td>0</td>\n",
              "      <td>0</td>\n",
              "      <td>47.3386</td>\n",
              "      <td>-122.288</td>\n",
              "      <td>1550</td>\n",
              "      <td>7920</td>\n",
              "    </tr>\n",
              "    <tr>\n",
              "      <th>3088</th>\n",
              "      <td>3/5/2015</td>\n",
              "      <td>4</td>\n",
              "      <td>1340</td>\n",
              "      <td>7920</td>\n",
              "      <td>1.0</td>\n",
              "      <td>0</td>\n",
              "      <td>4</td>\n",
              "      <td>7</td>\n",
              "      <td>1340</td>\n",
              "      <td>0</td>\n",
              "      <td>1970</td>\n",
              "      <td>0</td>\n",
              "      <td>0</td>\n",
              "      <td>47.2845</td>\n",
              "      <td>-122.267</td>\n",
              "      <td>1090</td>\n",
              "      <td>9600</td>\n",
              "    </tr>\n",
              "  </tbody>\n",
              "</table>\n",
              "</div>"
            ],
            "text/plain": [
              "           date  bedrooms  sqft_living  ...     long  sqft_living15  sqft_lot15\n",
              "2909  2/18/2015         4         1450  ... -122.276           1430        7560\n",
              "1574  3/24/2015         3         1580  ... -122.281           1480        9600\n",
              "2833  8/27/2014         4         1820  ... -122.242           1310        8217\n",
              "311   4/14/2015         4         1730  ... -122.288           1550        7920\n",
              "3088   3/5/2015         4         1340  ... -122.267           1090        9600\n",
              "\n",
              "[5 rows x 17 columns]"
            ]
          },
          "metadata": {
            "tags": []
          },
          "execution_count": 7
        }
      ]
    },
    {
      "cell_type": "code",
      "metadata": {
        "id": "aqNTXaHf72j1"
      },
      "source": [
        "for row in train:\n",
        "  if row!=\"date\":\n",
        "    train[row]=train[row].astype(float)\n",
        "for row in val:\n",
        "  if row!=\"date\":\n",
        "    val[row]=val[row].astype(float)"
      ],
      "execution_count": null,
      "outputs": []
    },
    {
      "cell_type": "code",
      "metadata": {
        "id": "Uh4pYdxy7piS",
        "colab": {
          "base_uri": "https://localhost:8080/",
          "height": 215
        },
        "outputId": "59bedb65-6c41-4739-8141-4fa30bbbda8c"
      },
      "source": [
        "train[\"price_sq_lot\"]=train[\"price\"]/train[\"sqft_lot\"]\n",
        "train.head()"
      ],
      "execution_count": null,
      "outputs": [
        {
          "output_type": "execute_result",
          "data": {
            "text/html": [
              "<div>\n",
              "<style scoped>\n",
              "    .dataframe tbody tr th:only-of-type {\n",
              "        vertical-align: middle;\n",
              "    }\n",
              "\n",
              "    .dataframe tbody tr th {\n",
              "        vertical-align: top;\n",
              "    }\n",
              "\n",
              "    .dataframe thead th {\n",
              "        text-align: right;\n",
              "    }\n",
              "</style>\n",
              "<table border=\"1\" class=\"dataframe\">\n",
              "  <thead>\n",
              "    <tr style=\"text-align: right;\">\n",
              "      <th></th>\n",
              "      <th>date</th>\n",
              "      <th>price</th>\n",
              "      <th>bedrooms</th>\n",
              "      <th>sqft_living</th>\n",
              "      <th>sqft_lot</th>\n",
              "      <th>floors</th>\n",
              "      <th>waterfront</th>\n",
              "      <th>condition</th>\n",
              "      <th>grade</th>\n",
              "      <th>sqft_above</th>\n",
              "      <th>sqft_basement</th>\n",
              "      <th>yr_built</th>\n",
              "      <th>yr_renovated</th>\n",
              "      <th>zipcode</th>\n",
              "      <th>lat</th>\n",
              "      <th>long</th>\n",
              "      <th>sqft_living15</th>\n",
              "      <th>sqft_lot15</th>\n",
              "      <th>price_sq_lot</th>\n",
              "    </tr>\n",
              "  </thead>\n",
              "  <tbody>\n",
              "    <tr>\n",
              "      <th>0</th>\n",
              "      <td>10/13/2014</td>\n",
              "      <td>221900.0</td>\n",
              "      <td>3.0</td>\n",
              "      <td>1180.0</td>\n",
              "      <td>5650.0</td>\n",
              "      <td>1.0</td>\n",
              "      <td>0.0</td>\n",
              "      <td>3.0</td>\n",
              "      <td>7.0</td>\n",
              "      <td>1180.0</td>\n",
              "      <td>0.0</td>\n",
              "      <td>1955.0</td>\n",
              "      <td>0.0</td>\n",
              "      <td>98178.0</td>\n",
              "      <td>47.5112</td>\n",
              "      <td>-122.257</td>\n",
              "      <td>1340.0</td>\n",
              "      <td>5650.0</td>\n",
              "      <td>39.274336</td>\n",
              "    </tr>\n",
              "    <tr>\n",
              "      <th>1</th>\n",
              "      <td>12/9/2014</td>\n",
              "      <td>538000.0</td>\n",
              "      <td>3.0</td>\n",
              "      <td>2570.0</td>\n",
              "      <td>7242.0</td>\n",
              "      <td>2.0</td>\n",
              "      <td>0.0</td>\n",
              "      <td>3.0</td>\n",
              "      <td>7.0</td>\n",
              "      <td>2170.0</td>\n",
              "      <td>400.0</td>\n",
              "      <td>1951.0</td>\n",
              "      <td>1991.0</td>\n",
              "      <td>98125.0</td>\n",
              "      <td>47.7210</td>\n",
              "      <td>-122.319</td>\n",
              "      <td>1690.0</td>\n",
              "      <td>7639.0</td>\n",
              "      <td>74.288870</td>\n",
              "    </tr>\n",
              "    <tr>\n",
              "      <th>2</th>\n",
              "      <td>2/25/2015</td>\n",
              "      <td>180000.0</td>\n",
              "      <td>2.0</td>\n",
              "      <td>770.0</td>\n",
              "      <td>10000.0</td>\n",
              "      <td>1.0</td>\n",
              "      <td>0.0</td>\n",
              "      <td>3.0</td>\n",
              "      <td>6.0</td>\n",
              "      <td>770.0</td>\n",
              "      <td>0.0</td>\n",
              "      <td>1933.0</td>\n",
              "      <td>0.0</td>\n",
              "      <td>98028.0</td>\n",
              "      <td>47.7379</td>\n",
              "      <td>-122.233</td>\n",
              "      <td>2720.0</td>\n",
              "      <td>8062.0</td>\n",
              "      <td>18.000000</td>\n",
              "    </tr>\n",
              "    <tr>\n",
              "      <th>3</th>\n",
              "      <td>12/9/2014</td>\n",
              "      <td>604000.0</td>\n",
              "      <td>4.0</td>\n",
              "      <td>1960.0</td>\n",
              "      <td>5000.0</td>\n",
              "      <td>1.0</td>\n",
              "      <td>0.0</td>\n",
              "      <td>5.0</td>\n",
              "      <td>7.0</td>\n",
              "      <td>1050.0</td>\n",
              "      <td>910.0</td>\n",
              "      <td>1965.0</td>\n",
              "      <td>0.0</td>\n",
              "      <td>98136.0</td>\n",
              "      <td>47.5208</td>\n",
              "      <td>-122.393</td>\n",
              "      <td>1360.0</td>\n",
              "      <td>5000.0</td>\n",
              "      <td>120.800000</td>\n",
              "    </tr>\n",
              "    <tr>\n",
              "      <th>4</th>\n",
              "      <td>2/18/2015</td>\n",
              "      <td>510000.0</td>\n",
              "      <td>3.0</td>\n",
              "      <td>1680.0</td>\n",
              "      <td>8080.0</td>\n",
              "      <td>1.0</td>\n",
              "      <td>0.0</td>\n",
              "      <td>3.0</td>\n",
              "      <td>8.0</td>\n",
              "      <td>1680.0</td>\n",
              "      <td>0.0</td>\n",
              "      <td>1987.0</td>\n",
              "      <td>0.0</td>\n",
              "      <td>98074.0</td>\n",
              "      <td>47.6168</td>\n",
              "      <td>-122.045</td>\n",
              "      <td>1800.0</td>\n",
              "      <td>7503.0</td>\n",
              "      <td>63.118812</td>\n",
              "    </tr>\n",
              "  </tbody>\n",
              "</table>\n",
              "</div>"
            ],
            "text/plain": [
              "         date     price  bedrooms  ...  sqft_living15  sqft_lot15  price_sq_lot\n",
              "0  10/13/2014  221900.0       3.0  ...         1340.0      5650.0     39.274336\n",
              "1   12/9/2014  538000.0       3.0  ...         1690.0      7639.0     74.288870\n",
              "2   2/25/2015  180000.0       2.0  ...         2720.0      8062.0     18.000000\n",
              "3   12/9/2014  604000.0       4.0  ...         1360.0      5000.0    120.800000\n",
              "4   2/18/2015  510000.0       3.0  ...         1800.0      7503.0     63.118812\n",
              "\n",
              "[5 rows x 19 columns]"
            ]
          },
          "metadata": {
            "tags": []
          },
          "execution_count": 9
        }
      ]
    },
    {
      "cell_type": "code",
      "metadata": {
        "id": "m1ceUtL-8ps6"
      },
      "source": [
        "A=train[\"price_sq_lot\"].mean()"
      ],
      "execution_count": null,
      "outputs": []
    },
    {
      "cell_type": "code",
      "metadata": {
        "id": "PYwbhcBp9ze9",
        "colab": {
          "base_uri": "https://localhost:8080/",
          "height": 34
        },
        "outputId": "e0409538-a8b7-49d2-b87f-e318ac99c185"
      },
      "source": [
        "train[\"lat\"].max()"
      ],
      "execution_count": null,
      "outputs": [
        {
          "output_type": "execute_result",
          "data": {
            "text/plain": [
              "47.7776"
            ]
          },
          "metadata": {
            "tags": []
          },
          "execution_count": 11
        }
      ]
    },
    {
      "cell_type": "code",
      "metadata": {
        "id": "CqvLajEj-Cqs"
      },
      "source": [
        "train[\"price_check\"]=train[\"price_sq_lot\"].apply(lambda x: 1 if x>A else 0)"
      ],
      "execution_count": null,
      "outputs": []
    },
    {
      "cell_type": "code",
      "metadata": {
        "id": "5oZWTco1hLrC",
        "colab": {
          "base_uri": "https://localhost:8080/",
          "height": 34
        },
        "outputId": "b2dd35e4-31ac-4379-a176-d3fab139a32c"
      },
      "source": [
        "train[\"zipcode\"].max()\n",
        "train[\"zipcode\"].min()"
      ],
      "execution_count": null,
      "outputs": [
        {
          "output_type": "execute_result",
          "data": {
            "text/plain": [
              "98001.0"
            ]
          },
          "metadata": {
            "tags": []
          },
          "execution_count": 13
        }
      ]
    },
    {
      "cell_type": "code",
      "metadata": {
        "id": "8E2CxNPtiZZi"
      },
      "source": [
        "train[\"zipcode\"]=train[\"zipcode\"]-train[\"zipcode\"].min()"
      ],
      "execution_count": null,
      "outputs": []
    },
    {
      "cell_type": "code",
      "metadata": {
        "id": "n6cof-OWk43P"
      },
      "source": [
        "train=train.sort_values(by=[\"zipcode\"])"
      ],
      "execution_count": null,
      "outputs": []
    },
    {
      "cell_type": "code",
      "metadata": {
        "id": "CQkEaHQtlpBz",
        "colab": {
          "base_uri": "https://localhost:8080/",
          "height": 403
        },
        "outputId": "b1bce7e3-adf1-431b-a077-1393411dc65c"
      },
      "source": [
        "a=0\n",
        "i=0\n",
        "z=[0]\n",
        "for j in range(train.shape[0]):\n",
        "  x=train[\"zipcode\"].values[j]\n",
        "  if x<a+5:\n",
        "    y=i\n",
        "   \n",
        "  if x>a+5:\n",
        "    \n",
        "    a=x\n",
        "    i=i+1\n",
        "    print(a,j,i,x)\n",
        "    z.append(i)  \n",
        "  train[\"zipcode\"].values[j]=y\n",
        "print(z)"
      ],
      "execution_count": null,
      "outputs": [
        {
          "output_type": "stream",
          "text": [
            "6.0 1451 1 6.0\n",
            "13.0 2046 2 13.0\n",
            "21.0 2297 3 21.0\n",
            "27.0 3265 4 27.0\n",
            "33.0 4598 5 33.0\n",
            "39.0 5568 6 39.0\n",
            "51.0 6396 7 51.0\n",
            "57.0 7698 8 57.0\n",
            "64.0 8424 9 64.0\n",
            "71.0 8762 10 71.0\n",
            "91.0 9784 11 91.0\n",
            "101.0 10070 12 101.0\n",
            "107.0 11293 13 107.0\n",
            "114.0 11735 14 114.0\n",
            "121.0 13460 15 121.0\n",
            "132.0 14300 16 132.0\n",
            "143.0 14894 17 143.0\n",
            "154.0 15433 18 154.0\n",
            "165.0 15790 19 165.0\n",
            "176.0 16206 20 176.0\n",
            "187.0 16626 21 187.0\n",
            "197.0 16738 22 197.0\n",
            "[0, 1, 2, 3, 4, 5, 6, 7, 8, 9, 10, 11, 12, 13, 14, 15, 16, 17, 18, 19, 20, 21, 22]\n"
          ],
          "name": "stdout"
        }
      ]
    },
    {
      "cell_type": "code",
      "metadata": {
        "id": "Zm3_MfguwD7_",
        "colab": {
          "base_uri": "https://localhost:8080/",
          "height": 302
        },
        "outputId": "d9f6c5ee-3205-4cc8-f176-01e7d800aa90"
      },
      "source": [
        "a=0\n",
        "price=0\n",
        "count=0\n",
        "y=[]\n",
        "#z=[0,1,2,3,4,5,6,7,8]\n",
        "for i in range(train.shape[0]):\n",
        "  x=train[\"zipcode\"].values[i]\n",
        "  \n",
        "  if x==a:\n",
        "    price+=train[\"price_sq_lot\"].values[i]\n",
        "    count=count+1\n",
        "  \n",
        "  if x>a:\n",
        "    #print(count)\n",
        "    y.append(price/count)\n",
        "    price=0\n",
        "    count=0\n",
        "    a=a+1\n",
        "y.append(price/count)\n",
        "print(y,z)\n",
        "\n",
        "plt.bar(z,y)\n",
        "plt.show()\n"
      ],
      "execution_count": null,
      "outputs": [
        {
          "output_type": "stream",
          "text": [
            "[62.26454055806141, 60.73637538021826, 33.0408407956844, 53.495957394507975, 73.83536277903889, 60.27500747707341, 50.871411653109696, 67.47489176464053, 48.44829834566871, 61.13278538261684, 61.08955745322365, 34.526899186795745, 202.53073065198106, 210.1754370704842, 149.63773096129222, 130.0921118704049, 101.28292122229541, 112.37346883958364, 46.001812772103136, 32.85544591797422, 55.17117890970064, 30.166521140190333, 108.99076865128221] [0, 1, 2, 3, 4, 5, 6, 7, 8, 9, 10, 11, 12, 13, 14, 15, 16, 17, 18, 19, 20, 21, 22]\n"
          ],
          "name": "stdout"
        },
        {
          "output_type": "display_data",
          "data": {
            "image/png": "[encoded data removed]",
            "text/plain": [
              "<Figure size 432x288 with 1 Axes>"
            ]
          },
          "metadata": {
            "tags": [],
            "needs_background": "light"
          }
        }
      ]
    },
    {
      "cell_type": "code",
      "metadata": {
        "id": "gvDLFinTMK3R",
        "colab": {
          "base_uri": "https://localhost:8080/",
          "height": 54
        },
        "outputId": "1c6d9c6d-bea5-4590-dbc0-60c721772ed7"
      },
      "source": [
        "a=statistics.mean(y)\n",
        "b=statistics.stdev(y)\n",
        "for i in range(len(y)):\n",
        "  \n",
        "  y[i]=(y[i])/a\n",
        "print(y)"
      ],
      "execution_count": null,
      "outputs": [
        {
          "output_type": "stream",
          "text": [
            "[0.7755795595189509, 0.7565444286903763, 0.41156331550470115, 0.6663563354071081, 0.9197080333017053, 0.7507975378936218, 0.6336644691890818, 0.8404807353329667, 0.6034816856206857, 0.761482190894893, 0.7609437351681311, 0.4300739557835421, 2.5227632527319392, 2.6179872435230624, 1.8639174789726844, 1.6204533417740856, 1.2616003061185392, 1.3997463834644308, 0.5730077724349601, 0.40925399986047106, 0.6872232293599871, 0.37576021550035804, 1.3576107939537196]\n"
          ],
          "name": "stdout"
        }
      ]
    },
    {
      "cell_type": "code",
      "metadata": {
        "id": "5U2vWF5sPmLV"
      },
      "source": [
        "j=0\n",
        "\n",
        "for i in range(train.shape[0]):\n",
        "  x=train[\"zipcode\"].values[i]\n",
        "  \n",
        "  if x==j:\n",
        "    train[\"zipcode\"].values[i]=y[j]\n",
        "  if x>j:\n",
        "    j=j+1\n"
      ],
      "execution_count": null,
      "outputs": []
    },
    {
      "cell_type": "code",
      "metadata": {
        "id": "CB_gd_OHWRxF",
        "colab": {
          "base_uri": "https://localhost:8080/",
          "height": 215
        },
        "outputId": "bae8468b-df2a-4b58-818c-b490ec4d0bac"
      },
      "source": [
        "train.head()"
      ],
      "execution_count": null,
      "outputs": [
        {
          "output_type": "execute_result",
          "data": {
            "text/html": [
              "<div>\n",
              "<style scoped>\n",
              "    .dataframe tbody tr th:only-of-type {\n",
              "        vertical-align: middle;\n",
              "    }\n",
              "\n",
              "    .dataframe tbody tr th {\n",
              "        vertical-align: top;\n",
              "    }\n",
              "\n",
              "    .dataframe thead th {\n",
              "        text-align: right;\n",
              "    }\n",
              "</style>\n",
              "<table border=\"1\" class=\"dataframe\">\n",
              "  <thead>\n",
              "    <tr style=\"text-align: right;\">\n",
              "      <th></th>\n",
              "      <th>date</th>\n",
              "      <th>price</th>\n",
              "      <th>bedrooms</th>\n",
              "      <th>sqft_living</th>\n",
              "      <th>sqft_lot</th>\n",
              "      <th>floors</th>\n",
              "      <th>waterfront</th>\n",
              "      <th>condition</th>\n",
              "      <th>grade</th>\n",
              "      <th>sqft_above</th>\n",
              "      <th>sqft_basement</th>\n",
              "      <th>yr_built</th>\n",
              "      <th>yr_renovated</th>\n",
              "      <th>zipcode</th>\n",
              "      <th>lat</th>\n",
              "      <th>long</th>\n",
              "      <th>sqft_living15</th>\n",
              "      <th>sqft_lot15</th>\n",
              "      <th>price_sq_lot</th>\n",
              "      <th>price_check</th>\n",
              "    </tr>\n",
              "  </thead>\n",
              "  <tbody>\n",
              "    <tr>\n",
              "      <th>7173</th>\n",
              "      <td>2/25/2015</td>\n",
              "      <td>274000.0</td>\n",
              "      <td>5.0</td>\n",
              "      <td>1950.0</td>\n",
              "      <td>8720.0</td>\n",
              "      <td>1.0</td>\n",
              "      <td>0.0</td>\n",
              "      <td>3.0</td>\n",
              "      <td>7.0</td>\n",
              "      <td>1050.0</td>\n",
              "      <td>900.0</td>\n",
              "      <td>1962.0</td>\n",
              "      <td>0.0</td>\n",
              "      <td>0.77558</td>\n",
              "      <td>47.3381</td>\n",
              "      <td>-122.289</td>\n",
              "      <td>1660.0</td>\n",
              "      <td>8030.0</td>\n",
              "      <td>31.422018</td>\n",
              "      <td>0</td>\n",
              "    </tr>\n",
              "    <tr>\n",
              "      <th>15630</th>\n",
              "      <td>8/8/2014</td>\n",
              "      <td>359000.0</td>\n",
              "      <td>4.0</td>\n",
              "      <td>2575.0</td>\n",
              "      <td>4725.0</td>\n",
              "      <td>2.0</td>\n",
              "      <td>0.0</td>\n",
              "      <td>3.0</td>\n",
              "      <td>8.0</td>\n",
              "      <td>2575.0</td>\n",
              "      <td>0.0</td>\n",
              "      <td>2011.0</td>\n",
              "      <td>0.0</td>\n",
              "      <td>0.77558</td>\n",
              "      <td>47.3058</td>\n",
              "      <td>-122.277</td>\n",
              "      <td>2575.0</td>\n",
              "      <td>5323.0</td>\n",
              "      <td>75.978836</td>\n",
              "      <td>0</td>\n",
              "    </tr>\n",
              "    <tr>\n",
              "      <th>8137</th>\n",
              "      <td>7/16/2014</td>\n",
              "      <td>270000.0</td>\n",
              "      <td>4.0</td>\n",
              "      <td>1850.0</td>\n",
              "      <td>7350.0</td>\n",
              "      <td>1.0</td>\n",
              "      <td>0.0</td>\n",
              "      <td>3.0</td>\n",
              "      <td>7.0</td>\n",
              "      <td>1050.0</td>\n",
              "      <td>800.0</td>\n",
              "      <td>1965.0</td>\n",
              "      <td>0.0</td>\n",
              "      <td>0.77558</td>\n",
              "      <td>47.3413</td>\n",
              "      <td>-122.277</td>\n",
              "      <td>1450.0</td>\n",
              "      <td>7250.0</td>\n",
              "      <td>36.734694</td>\n",
              "      <td>0</td>\n",
              "    </tr>\n",
              "    <tr>\n",
              "      <th>6656</th>\n",
              "      <td>11/7/2014</td>\n",
              "      <td>248000.0</td>\n",
              "      <td>3.0</td>\n",
              "      <td>1330.0</td>\n",
              "      <td>9831.0</td>\n",
              "      <td>1.0</td>\n",
              "      <td>0.0</td>\n",
              "      <td>3.0</td>\n",
              "      <td>7.0</td>\n",
              "      <td>1330.0</td>\n",
              "      <td>0.0</td>\n",
              "      <td>1987.0</td>\n",
              "      <td>0.0</td>\n",
              "      <td>0.77558</td>\n",
              "      <td>47.3304</td>\n",
              "      <td>-122.277</td>\n",
              "      <td>1330.0</td>\n",
              "      <td>7500.0</td>\n",
              "      <td>25.226325</td>\n",
              "      <td>0</td>\n",
              "    </tr>\n",
              "    <tr>\n",
              "      <th>6655</th>\n",
              "      <td>6/30/2014</td>\n",
              "      <td>359500.0</td>\n",
              "      <td>4.0</td>\n",
              "      <td>2140.0</td>\n",
              "      <td>10316.0</td>\n",
              "      <td>2.0</td>\n",
              "      <td>0.0</td>\n",
              "      <td>3.0</td>\n",
              "      <td>8.0</td>\n",
              "      <td>2140.0</td>\n",
              "      <td>0.0</td>\n",
              "      <td>1993.0</td>\n",
              "      <td>0.0</td>\n",
              "      <td>0.77558</td>\n",
              "      <td>47.3537</td>\n",
              "      <td>-122.274</td>\n",
              "      <td>1920.0</td>\n",
              "      <td>11337.0</td>\n",
              "      <td>34.848779</td>\n",
              "      <td>0</td>\n",
              "    </tr>\n",
              "  </tbody>\n",
              "</table>\n",
              "</div>"
            ],
            "text/plain": [
              "            date     price  bedrooms  ...  sqft_lot15  price_sq_lot  price_check\n",
              "7173   2/25/2015  274000.0       5.0  ...      8030.0     31.422018            0\n",
              "15630   8/8/2014  359000.0       4.0  ...      5323.0     75.978836            0\n",
              "8137   7/16/2014  270000.0       4.0  ...      7250.0     36.734694            0\n",
              "6656   11/7/2014  248000.0       3.0  ...      7500.0     25.226325            0\n",
              "6655   6/30/2014  359500.0       4.0  ...     11337.0     34.848779            0\n",
              "\n",
              "[5 rows x 20 columns]"
            ]
          },
          "metadata": {
            "tags": []
          },
          "execution_count": 20
        }
      ]
    },
    {
      "cell_type": "code",
      "metadata": {
        "id": "zQlkgFJXkUjd",
        "colab": {
          "base_uri": "https://localhost:8080/",
          "height": 34
        },
        "outputId": "5e76d846-7d31-48f8-91d4-94ccdfd4c143"
      },
      "source": [
        "val[\"zipcode\"].max()"
      ],
      "execution_count": null,
      "outputs": [
        {
          "output_type": "execute_result",
          "data": {
            "text/plain": [
              "198.0"
            ]
          },
          "metadata": {
            "tags": []
          },
          "execution_count": 21
        }
      ]
    },
    {
      "cell_type": "code",
      "metadata": {
        "id": "-hgU2fBeqy58",
        "colab": {
          "base_uri": "https://localhost:8080/",
          "height": 34
        },
        "outputId": "36850528-a30b-4cce-d2b3-3e2e064315ab"
      },
      "source": [
        "val[\"long\"].min()\n"
      ],
      "execution_count": null,
      "outputs": [
        {
          "output_type": "execute_result",
          "data": {
            "text/plain": [
              "-122.515"
            ]
          },
          "metadata": {
            "tags": []
          },
          "execution_count": 31
        }
      ]
    },
    {
      "cell_type": "code",
      "metadata": {
        "id": "q2QW-liGkesz",
        "colab": {
          "base_uri": "https://localhost:8080/",
          "height": 403
        },
        "outputId": "3f121f91-bbb5-43b0-b5c7-6048431720de"
      },
      "source": [
        "a=0\n",
        "i=0\n",
        "z=[0]\n",
        "for j in range(val.shape[0]):\n",
        "  x=val[\"zipcode\"].values[j]\n",
        "  if x<a+5:\n",
        "    y_val=i\n",
        "   \n",
        "  if x>a+5:\n",
        "    \n",
        "    a=x\n",
        "    i=i+1\n",
        "    print(a,j,i,x)\n",
        "    z.append(i)  \n",
        "  val[\"zipcode\"].values[j]=y_val\n",
        "print(z)"
      ],
      "execution_count": null,
      "outputs": [
        {
          "output_type": "stream",
          "text": [
            "6.0 353 1 6.0\n",
            "13.0 473 2 13.0\n",
            "21.0 535 3 21.0\n",
            "27.0 782 4 27.0\n",
            "33.0 1129 5 33.0\n",
            "39.0 1337 6 39.0\n",
            "51.0 1555 7 51.0\n",
            "57.0 1888 8 57.0\n",
            "64.0 2078 9 64.0\n",
            "71.0 2161 10 71.0\n",
            "91.0 2400 11 91.0\n",
            "101.0 2465 12 101.0\n",
            "107.0 2769 13 107.0\n",
            "114.0 2889 14 114.0\n",
            "121.0 3299 15 121.0\n",
            "132.0 3502 16 132.0\n",
            "143.0 3655 17 143.0\n",
            "154.0 3793 18 154.0\n",
            "165.0 3878 19 165.0\n",
            "176.0 3976 20 176.0\n",
            "187.0 4068 21 187.0\n",
            "197.0 4091 22 197.0\n",
            "[0, 1, 2, 3, 4, 5, 6, 7, 8, 9, 10, 11, 12, 13, 14, 15, 16, 17, 18, 19, 20, 21, 22]\n"
          ],
          "name": "stdout"
        }
      ]
    },
    {
      "cell_type": "code",
      "metadata": {
        "id": "8FXonHRIlfAw",
        "colab": {
          "base_uri": "https://localhost:8080/",
          "height": 218
        },
        "outputId": "64b93c91-9157-40c1-eae1-0ada942d52a5"
      },
      "source": [
        "val[\"zipcode\"]"
      ],
      "execution_count": null,
      "outputs": [
        {
          "output_type": "execute_result",
          "data": {
            "text/plain": [
              "2909     0.0\n",
              "1574     0.0\n",
              "2833     0.0\n",
              "311      0.0\n",
              "3088     0.0\n",
              "        ... \n",
              "1213    22.0\n",
              "4082    22.0\n",
              "3404    22.0\n",
              "3085    22.0\n",
              "1700    22.0\n",
              "Name: zipcode, Length: 4210, dtype: float64"
            ]
          },
          "metadata": {
            "tags": []
          },
          "execution_count": 23
        }
      ]
    },
    {
      "cell_type": "code",
      "metadata": {
        "id": "MNww2ub4j_zm"
      },
      "source": [
        "j=0\n",
        "\n",
        "for i in range(val.shape[0]):\n",
        "  \n",
        "  x=val[\"zipcode\"].values[i]\n",
        "  \n",
        "  if x==j:\n",
        "    val[\"zipcode\"].values[i]=y[j]\n",
        "  if x>j:\n",
        "    j=j+1\n"
      ],
      "execution_count": null,
      "outputs": []
    },
    {
      "cell_type": "code",
      "metadata": {
        "id": "C0tCgL8olJil",
        "colab": {
          "base_uri": "https://localhost:8080/",
          "height": 215
        },
        "outputId": "e9afa453-4e8e-40f9-c6dd-bb7da41bb4d1"
      },
      "source": [
        "val.head()"
      ],
      "execution_count": null,
      "outputs": [
        {
          "output_type": "execute_result",
          "data": {
            "text/html": [
              "<div>\n",
              "<style scoped>\n",
              "    .dataframe tbody tr th:only-of-type {\n",
              "        vertical-align: middle;\n",
              "    }\n",
              "\n",
              "    .dataframe tbody tr th {\n",
              "        vertical-align: top;\n",
              "    }\n",
              "\n",
              "    .dataframe thead th {\n",
              "        text-align: right;\n",
              "    }\n",
              "</style>\n",
              "<table border=\"1\" class=\"dataframe\">\n",
              "  <thead>\n",
              "    <tr style=\"text-align: right;\">\n",
              "      <th></th>\n",
              "      <th>date</th>\n",
              "      <th>bedrooms</th>\n",
              "      <th>sqft_living</th>\n",
              "      <th>sqft_lot</th>\n",
              "      <th>floors</th>\n",
              "      <th>waterfront</th>\n",
              "      <th>condition</th>\n",
              "      <th>grade</th>\n",
              "      <th>sqft_above</th>\n",
              "      <th>sqft_basement</th>\n",
              "      <th>yr_built</th>\n",
              "      <th>yr_renovated</th>\n",
              "      <th>zipcode</th>\n",
              "      <th>lat</th>\n",
              "      <th>long</th>\n",
              "      <th>sqft_living15</th>\n",
              "      <th>sqft_lot15</th>\n",
              "    </tr>\n",
              "  </thead>\n",
              "  <tbody>\n",
              "    <tr>\n",
              "      <th>2909</th>\n",
              "      <td>2/18/2015</td>\n",
              "      <td>4.0</td>\n",
              "      <td>1450.0</td>\n",
              "      <td>7560.0</td>\n",
              "      <td>1.0</td>\n",
              "      <td>0.0</td>\n",
              "      <td>3.0</td>\n",
              "      <td>7.0</td>\n",
              "      <td>1450.0</td>\n",
              "      <td>0.0</td>\n",
              "      <td>1967.0</td>\n",
              "      <td>0.0</td>\n",
              "      <td>0.77558</td>\n",
              "      <td>47.3375</td>\n",
              "      <td>-122.276</td>\n",
              "      <td>1430.0</td>\n",
              "      <td>7560.0</td>\n",
              "    </tr>\n",
              "    <tr>\n",
              "      <th>1574</th>\n",
              "      <td>3/24/2015</td>\n",
              "      <td>3.0</td>\n",
              "      <td>1580.0</td>\n",
              "      <td>14400.0</td>\n",
              "      <td>1.0</td>\n",
              "      <td>0.0</td>\n",
              "      <td>4.0</td>\n",
              "      <td>7.0</td>\n",
              "      <td>1580.0</td>\n",
              "      <td>0.0</td>\n",
              "      <td>1981.0</td>\n",
              "      <td>0.0</td>\n",
              "      <td>0.77558</td>\n",
              "      <td>47.2598</td>\n",
              "      <td>-122.281</td>\n",
              "      <td>1480.0</td>\n",
              "      <td>9600.0</td>\n",
              "    </tr>\n",
              "    <tr>\n",
              "      <th>2833</th>\n",
              "      <td>8/27/2014</td>\n",
              "      <td>4.0</td>\n",
              "      <td>1820.0</td>\n",
              "      <td>8217.0</td>\n",
              "      <td>1.0</td>\n",
              "      <td>0.0</td>\n",
              "      <td>3.0</td>\n",
              "      <td>7.0</td>\n",
              "      <td>1120.0</td>\n",
              "      <td>700.0</td>\n",
              "      <td>1987.0</td>\n",
              "      <td>0.0</td>\n",
              "      <td>0.77558</td>\n",
              "      <td>47.2630</td>\n",
              "      <td>-122.242</td>\n",
              "      <td>1310.0</td>\n",
              "      <td>8217.0</td>\n",
              "    </tr>\n",
              "    <tr>\n",
              "      <th>311</th>\n",
              "      <td>4/14/2015</td>\n",
              "      <td>4.0</td>\n",
              "      <td>1730.0</td>\n",
              "      <td>8400.0</td>\n",
              "      <td>1.0</td>\n",
              "      <td>0.0</td>\n",
              "      <td>3.0</td>\n",
              "      <td>7.0</td>\n",
              "      <td>1730.0</td>\n",
              "      <td>0.0</td>\n",
              "      <td>1962.0</td>\n",
              "      <td>0.0</td>\n",
              "      <td>0.77558</td>\n",
              "      <td>47.3386</td>\n",
              "      <td>-122.288</td>\n",
              "      <td>1550.0</td>\n",
              "      <td>7920.0</td>\n",
              "    </tr>\n",
              "    <tr>\n",
              "      <th>3088</th>\n",
              "      <td>3/5/2015</td>\n",
              "      <td>4.0</td>\n",
              "      <td>1340.0</td>\n",
              "      <td>7920.0</td>\n",
              "      <td>1.0</td>\n",
              "      <td>0.0</td>\n",
              "      <td>4.0</td>\n",
              "      <td>7.0</td>\n",
              "      <td>1340.0</td>\n",
              "      <td>0.0</td>\n",
              "      <td>1970.0</td>\n",
              "      <td>0.0</td>\n",
              "      <td>0.77558</td>\n",
              "      <td>47.2845</td>\n",
              "      <td>-122.267</td>\n",
              "      <td>1090.0</td>\n",
              "      <td>9600.0</td>\n",
              "    </tr>\n",
              "  </tbody>\n",
              "</table>\n",
              "</div>"
            ],
            "text/plain": [
              "           date  bedrooms  sqft_living  ...     long  sqft_living15  sqft_lot15\n",
              "2909  2/18/2015       4.0       1450.0  ... -122.276         1430.0      7560.0\n",
              "1574  3/24/2015       3.0       1580.0  ... -122.281         1480.0      9600.0\n",
              "2833  8/27/2014       4.0       1820.0  ... -122.242         1310.0      8217.0\n",
              "311   4/14/2015       4.0       1730.0  ... -122.288         1550.0      7920.0\n",
              "3088   3/5/2015       4.0       1340.0  ... -122.267         1090.0      9600.0\n",
              "\n",
              "[5 rows x 17 columns]"
            ]
          },
          "metadata": {
            "tags": []
          },
          "execution_count": 25
        }
      ]
    },
    {
      "cell_type": "code",
      "metadata": {
        "id": "STkmOKs5EUbn",
        "colab": {
          "base_uri": "https://localhost:8080/",
          "height": 265
        },
        "outputId": "ebf887e8-dbd9-4783-ab75-dd38b722504e"
      },
      "source": [
        "plt.hist(train[\"price_check\"])\n",
        "plt.show()"
      ],
      "execution_count": null,
      "outputs": [
        {
          "output_type": "display_data",
          "data": {
            "image/png": "[encoded data removed]",
            "text/plain": [
              "<Figure size 432x288 with 1 Axes>"
            ]
          },
          "metadata": {
            "tags": [],
            "needs_background": "light"
          }
        }
      ]
    },
    {
      "cell_type": "code",
      "metadata": {
        "id": "AayCAk_VdSpS"
      },
      "source": [
        "train=train.drop('price_check',axis=1)"
      ],
      "execution_count": null,
      "outputs": []
    },
    {
      "cell_type": "code",
      "metadata": {
        "id": "fsr8Y67TalUG"
      },
      "source": [
        "\n",
        "for i in range(train.shape[0]):\n",
        "  train[\"date\"].values[i]=np.float64(train['date'].values[i].split('/')[1])\n",
        "  #print(train[\"date\"].values)\n",
        "  #print(a)\n",
        "#train[\"date_check\"]=a\n",
        "for i in range(val.shape[0]):\n",
        "  val[\"date\"].values[i]=np.float64(val['date'].values[i].split('/')[1])\n",
        "  #print(train[\"date\"].values)\n",
        "  #print(a)\n",
        "#train[\"date_check\"]=a"
      ],
      "execution_count": null,
      "outputs": []
    },
    {
      "cell_type": "code",
      "metadata": {
        "id": "n9KGZiWzpnF9"
      },
      "source": [
        "for i in range(df_train.shape[0]):\n",
        "  df_train[\"date\"].values[i]=np.float64(df_train['date'].values[i].split('/')[0])\n",
        "  #print(train[\"date\"].values)\n",
        "  #print(a)\n",
        "#train[\"date_check\"]=a\n",
        "for i in range(df_test.shape[0]):\n",
        "  df_test[\"date\"].values[i]=np.float64(df_test['date'].values[i].split('/')[0])\n",
        "  #print(train[\"date\"].values)\n",
        "  #print(a)\n",
        "#train[\"date_check\"]=a"
      ],
      "execution_count": null,
      "outputs": []
    },
    {
      "cell_type": "code",
      "metadata": {
        "id": "oE5eTjuzcmUq"
      },
      "source": [
        "train[\"date-check\"]=train[\"date-check\"].astype(float)\n",
        "val[\"date-check\"]=val[\"date-check\"].astype(float)"
      ],
      "execution_count": null,
      "outputs": []
    },
    {
      "cell_type": "code",
      "metadata": {
        "id": "ZHcehTbzp4rm"
      },
      "source": [
        "train[\"month-check\"]=train[\"month-check\"].astype(float)\n",
        "val[\"month-check\"]=val[\"month-check\"].astype(float)"
      ],
      "execution_count": null,
      "outputs": []
    },
    {
      "cell_type": "code",
      "metadata": {
        "id": "RQ34WL2NvAy9"
      },
      "source": [
        "train[\"extra\"]=(train[\"sqft_living15\"]-train[\"sqft_living\"])+(train[\"sqft_lot15\"]-train[\"sqft_lot\"])\n",
        "val[\"extra\"]=(val[\"sqft_living15\"]-val[\"sqft_living\"])+(val[\"sqft_lot15\"]-val[\"sqft_lot\"])"
      ],
      "execution_count": null,
      "outputs": []
    },
    {
      "cell_type": "code",
      "metadata": {
        "id": "eV7dBvf7utwS",
        "colab": {
          "base_uri": "https://localhost:8080/",
          "height": 295
        },
        "outputId": "0afaba1d-e578-466f-cf9b-8d2b55c8e44e"
      },
      "source": [
        "\n",
        "plt.scatter(train[\"waterfront\"], train[\"price\"], c = \"blue\", marker = \"o\")\n",
        "plt.title(\" waterfront vs Price\")\n",
        "plt.xlabel(\"waterfront\")\n",
        "plt.ylabel(\"Price\")\n",
        "plt.show()"
      ],
      "execution_count": null,
      "outputs": [
        {
          "output_type": "display_data",
          "data": {
            "image/png": "[encoded data removed]",
            "text/plain": [
              "<Figure size 432x288 with 1 Axes>"
            ]
          },
          "metadata": {
            "tags": [],
            "needs_background": "light"
          }
        }
      ]
    },
    {
      "cell_type": "code",
      "metadata": {
        "id": "_dMyTLOA0i94",
        "colab": {
          "base_uri": "https://localhost:8080/",
          "height": 296
        },
        "outputId": "82a7bfa9-2dc4-4e88-875f-f87fa711dbe0"
      },
      "source": [
        "\n",
        "plt.scatter(train[\"sqft_lot\"], train[\"price\"], c = \"green\", marker = \"o\")\n",
        "plt.title(\" sqft_lot vs Price\")\n",
        "plt.xlabel(\"sqft_lot\")\n",
        "plt.ylabel(\"Price\")\n",
        "plt.show()"
      ],
      "execution_count": null,
      "outputs": [
        {
          "output_type": "display_data",
          "data": {
            "image/png": "[encoded data removed]",
            "text/plain": [
              "<Figure size 432x288 with 1 Axes>"
            ]
          },
          "metadata": {
            "tags": [],
            "needs_background": "light"
          }
        }
      ]
    },
    {
      "cell_type": "code",
      "metadata": {
        "id": "K8TkEN3N0wxZ",
        "colab": {
          "base_uri": "https://localhost:8080/",
          "height": 296
        },
        "outputId": "75cfe231-9fb9-4912-fc46-57ee9b3fb1db"
      },
      "source": [
        "\n",
        "plt.scatter(train[\"sqft_living\"], train[\"price\"], c = \"red\", marker = \"o\")\n",
        "plt.title(\" sqft_living vs Price\")\n",
        "plt.xlabel(\"sqft_living\")\n",
        "plt.ylabel(\"Price\")\n",
        "plt.show()"
      ],
      "execution_count": null,
      "outputs": [
        {
          "output_type": "display_data",
          "data": {
            "image/png": "[encoded data removed]",
            "text/plain": [
              "<Figure size 432x288 with 1 Axes>"
            ]
          },
          "metadata": {
            "tags": [],
            "needs_background": "light"
          }
        }
      ]
    },
    {
      "cell_type": "code",
      "metadata": {
        "id": "xgpu7OD009JT",
        "colab": {
          "base_uri": "https://localhost:8080/",
          "height": 296
        },
        "outputId": "779eb3cf-b7d3-405e-a73c-fa142919ac58"
      },
      "source": [
        "\n",
        "plt.scatter(train[\"sqft_living15\"], train[\"price\"], c = \"black\", marker = \"o\")\n",
        "plt.title(\" sqft_living15 vs Price\")\n",
        "plt.xlabel(\"sqft_living15\")\n",
        "plt.ylabel(\"Price\")\n",
        "plt.show()"
      ],
      "execution_count": null,
      "outputs": [
        {
          "output_type": "display_data",
          "data": {
            "image/png": "[encoded data removed]",
            "text/plain": [
              "<Figure size 432x288 with 1 Axes>"
            ]
          },
          "metadata": {
            "tags": [],
            "needs_background": "light"
          }
        }
      ]
    },
    {
      "cell_type": "code",
      "metadata": {
        "id": "kZz8-ivz1GgH",
        "colab": {
          "base_uri": "https://localhost:8080/",
          "height": 296
        },
        "outputId": "6ed60a7d-c39e-494b-9be7-e88e37e5ba89"
      },
      "source": [
        "\n",
        "plt.scatter(train[\"sqft_lot15\"], train[\"price\"], c = \"brown\", marker = \"o\")\n",
        "plt.title(\" sqft_lot15 vs Price\")\n",
        "plt.xlabel(\"sqft_lot15\")\n",
        "plt.ylabel(\"Price\")\n",
        "plt.show()"
      ],
      "execution_count": null,
      "outputs": [
        {
          "output_type": "display_data",
          "data": {
            "image/png": "[encoded data removed]",
            "text/plain": [
              "<Figure size 432x288 with 1 Axes>"
            ]
          },
          "metadata": {
            "tags": [],
            "needs_background": "light"
          }
        }
      ]
    },
    {
      "cell_type": "code",
      "metadata": {
        "id": "imjamDqc1Uku",
        "colab": {
          "base_uri": "https://localhost:8080/",
          "height": 296
        },
        "outputId": "4d82c0ff-47ab-48a8-8d24-6f66dd4dcd97"
      },
      "source": [
        "\n",
        "plt.scatter(train[\"sqft_above\"]+train[\"sqft_basement\"], train[\"price\"], c = \"blue\", marker = \"o\")\n",
        "plt.title(\" above_basement vs Price\")\n",
        "plt.xlabel(\"above_basement\")\n",
        "plt.ylabel(\"Price\")\n",
        "plt.show()"
      ],
      "execution_count": null,
      "outputs": [
        {
          "output_type": "display_data",
          "data": {
            "image/png": "[encoded data removed]",
            "text/plain": [
              "<Figure size 432x288 with 1 Axes>"
            ]
          },
          "metadata": {
            "tags": [],
            "needs_background": "light"
          }
        }
      ]
    },
    {
      "cell_type": "code",
      "metadata": {
        "id": "M2wz-kLVxq4s"
      },
      "source": [
        "train=train.drop('date',axis=1)\n",
        "val=val.drop('date',axis=1)"
      ],
      "execution_count": null,
      "outputs": []
    },
    {
      "cell_type": "code",
      "metadata": {
        "id": "68TPu4Fcydhy"
      },
      "source": [
        "test=train['price_sq_lot']"
      ],
      "execution_count": null,
      "outputs": []
    },
    {
      "cell_type": "code",
      "metadata": {
        "id": "grCnqZPty-KR"
      },
      "source": [
        "train=train.drop('price_sq_lot',axis=1)\n"
      ],
      "execution_count": null,
      "outputs": []
    },
    {
      "cell_type": "code",
      "metadata": {
        "id": "gzjNqic8dpyK"
      },
      "source": [
        "train=train.drop('price',axis=1)"
      ],
      "execution_count": null,
      "outputs": []
    },
    {
      "cell_type": "code",
      "metadata": {
        "id": "BdhmcxS0gubr"
      },
      "source": [
        "train[\"date-check\"]=train[\"date\"]"
      ],
      "execution_count": null,
      "outputs": []
    },
    {
      "cell_type": "code",
      "metadata": {
        "id": "tufb6OXfvlar"
      },
      "source": [
        "val[\"date-check\"]=val[\"date\"]"
      ],
      "execution_count": null,
      "outputs": []
    },
    {
      "cell_type": "code",
      "metadata": {
        "id": "qyI92RrE581q"
      },
      "source": [
        "train=train.drop('extra',axis=1)\n",
        "val=val.drop('extra',axis=1)"
      ],
      "execution_count": null,
      "outputs": []
    },
    {
      "cell_type": "code",
      "metadata": {
        "id": "bgGFSIXJqrdo"
      },
      "source": [
        "train=train.drop('date-check',axis=1)\n",
        "val=val.drop('date-check',axis=1)"
      ],
      "execution_count": null,
      "outputs": []
    },
    {
      "cell_type": "code",
      "metadata": {
        "id": "Wa_i0M8irD7T"
      },
      "source": [
        "train=train.drop('month-check',axis=1)\n",
        "val=val.drop('month-check',axis=1)"
      ],
      "execution_count": null,
      "outputs": []
    },
    {
      "cell_type": "code",
      "metadata": {
        "id": "5NUJB7nPpyZ6"
      },
      "source": [
        "train[\"month-check\"]=df_train[\"date\"]\n",
        "val[\"month-check\"]=df_train[\"date\"]"
      ],
      "execution_count": null,
      "outputs": []
    },
    {
      "cell_type": "code",
      "metadata": {
        "id": "9LV7hc6m8CzL"
      },
      "source": [
        "train['yr_built']=2015-train['yr_built']\n",
        "val['yr_built']=2015-val['yr_built']"
      ],
      "execution_count": null,
      "outputs": []
    },
    {
      "cell_type": "code",
      "metadata": {
        "id": "lvjZLCaDxCDu"
      },
      "source": [
        "for i in range(train.shape[0]):\n",
        "  if train[\"yr_renovated\"].values[i]>0:\n",
        "    train[\"yr_renovated\"].values[i]=2015-train[\"yr_renovated\"].values[i]\n",
        "  else:\n",
        "    train[\"yr_renovated\"].values[i]=train[\"yr_built\"].values[i]"
      ],
      "execution_count": null,
      "outputs": []
    },
    {
      "cell_type": "code",
      "metadata": {
        "id": "KCS991cXxqLa"
      },
      "source": [
        "for i in range(val.shape[0]):\n",
        "  if val[\"yr_renovated\"].values[i]>0:\n",
        "    val[\"yr_renovated\"].values[i]=2015-val[\"yr_renovated\"].values[i]\n",
        "  else:\n",
        "    val[\"yr_renovated\"].values[i]=val[\"yr_built\"].values[i]"
      ],
      "execution_count": null,
      "outputs": []
    },
    {
      "cell_type": "code",
      "metadata": {
        "id": "tudXlVXpzEHP",
        "colab": {
          "base_uri": "https://localhost:8080/",
          "height": 232
        },
        "outputId": "19995865-359d-4d1a-82df-34d58cf12980"
      },
      "source": [
        "train.head()"
      ],
      "execution_count": null,
      "outputs": [
        {
          "output_type": "execute_result",
          "data": {
            "text/html": [
              "<div>\n",
              "<style scoped>\n",
              "    .dataframe tbody tr th:only-of-type {\n",
              "        vertical-align: middle;\n",
              "    }\n",
              "\n",
              "    .dataframe tbody tr th {\n",
              "        vertical-align: top;\n",
              "    }\n",
              "\n",
              "    .dataframe thead th {\n",
              "        text-align: right;\n",
              "    }\n",
              "</style>\n",
              "<table border=\"1\" class=\"dataframe\">\n",
              "  <thead>\n",
              "    <tr style=\"text-align: right;\">\n",
              "      <th></th>\n",
              "      <th>price</th>\n",
              "      <th>bedrooms</th>\n",
              "      <th>sqft_living</th>\n",
              "      <th>sqft_lot</th>\n",
              "      <th>floors</th>\n",
              "      <th>waterfront</th>\n",
              "      <th>condition</th>\n",
              "      <th>grade</th>\n",
              "      <th>sqft_above</th>\n",
              "      <th>sqft_basement</th>\n",
              "      <th>yr_built</th>\n",
              "      <th>yr_renovated</th>\n",
              "      <th>zipcode</th>\n",
              "      <th>lat</th>\n",
              "      <th>long</th>\n",
              "      <th>sqft_living15</th>\n",
              "      <th>sqft_lot15</th>\n",
              "      <th>price_sq_lot</th>\n",
              "      <th>price_check</th>\n",
              "      <th>extra</th>\n",
              "      <th>date-check</th>\n",
              "      <th>month-check</th>\n",
              "    </tr>\n",
              "  </thead>\n",
              "  <tbody>\n",
              "    <tr>\n",
              "      <th>7173</th>\n",
              "      <td>274000.0</td>\n",
              "      <td>5.0</td>\n",
              "      <td>1950.0</td>\n",
              "      <td>8720.0</td>\n",
              "      <td>1.0</td>\n",
              "      <td>0.0</td>\n",
              "      <td>3.0</td>\n",
              "      <td>7.0</td>\n",
              "      <td>1050.0</td>\n",
              "      <td>900.0</td>\n",
              "      <td>53.0</td>\n",
              "      <td>53.0</td>\n",
              "      <td>0.77558</td>\n",
              "      <td>47.3381</td>\n",
              "      <td>-122.289</td>\n",
              "      <td>1660.0</td>\n",
              "      <td>8030.0</td>\n",
              "      <td>31.422018</td>\n",
              "      <td>0</td>\n",
              "      <td>-980.0</td>\n",
              "      <td>25.0</td>\n",
              "      <td>2.0</td>\n",
              "    </tr>\n",
              "    <tr>\n",
              "      <th>15630</th>\n",
              "      <td>359000.0</td>\n",
              "      <td>4.0</td>\n",
              "      <td>2575.0</td>\n",
              "      <td>4725.0</td>\n",
              "      <td>2.0</td>\n",
              "      <td>0.0</td>\n",
              "      <td>3.0</td>\n",
              "      <td>8.0</td>\n",
              "      <td>2575.0</td>\n",
              "      <td>0.0</td>\n",
              "      <td>4.0</td>\n",
              "      <td>4.0</td>\n",
              "      <td>0.77558</td>\n",
              "      <td>47.3058</td>\n",
              "      <td>-122.277</td>\n",
              "      <td>2575.0</td>\n",
              "      <td>5323.0</td>\n",
              "      <td>75.978836</td>\n",
              "      <td>0</td>\n",
              "      <td>598.0</td>\n",
              "      <td>8.0</td>\n",
              "      <td>8.0</td>\n",
              "    </tr>\n",
              "    <tr>\n",
              "      <th>8137</th>\n",
              "      <td>270000.0</td>\n",
              "      <td>4.0</td>\n",
              "      <td>1850.0</td>\n",
              "      <td>7350.0</td>\n",
              "      <td>1.0</td>\n",
              "      <td>0.0</td>\n",
              "      <td>3.0</td>\n",
              "      <td>7.0</td>\n",
              "      <td>1050.0</td>\n",
              "      <td>800.0</td>\n",
              "      <td>50.0</td>\n",
              "      <td>50.0</td>\n",
              "      <td>0.77558</td>\n",
              "      <td>47.3413</td>\n",
              "      <td>-122.277</td>\n",
              "      <td>1450.0</td>\n",
              "      <td>7250.0</td>\n",
              "      <td>36.734694</td>\n",
              "      <td>0</td>\n",
              "      <td>-500.0</td>\n",
              "      <td>16.0</td>\n",
              "      <td>7.0</td>\n",
              "    </tr>\n",
              "    <tr>\n",
              "      <th>6656</th>\n",
              "      <td>248000.0</td>\n",
              "      <td>3.0</td>\n",
              "      <td>1330.0</td>\n",
              "      <td>9831.0</td>\n",
              "      <td>1.0</td>\n",
              "      <td>0.0</td>\n",
              "      <td>3.0</td>\n",
              "      <td>7.0</td>\n",
              "      <td>1330.0</td>\n",
              "      <td>0.0</td>\n",
              "      <td>28.0</td>\n",
              "      <td>28.0</td>\n",
              "      <td>0.77558</td>\n",
              "      <td>47.3304</td>\n",
              "      <td>-122.277</td>\n",
              "      <td>1330.0</td>\n",
              "      <td>7500.0</td>\n",
              "      <td>25.226325</td>\n",
              "      <td>0</td>\n",
              "      <td>-2331.0</td>\n",
              "      <td>7.0</td>\n",
              "      <td>11.0</td>\n",
              "    </tr>\n",
              "    <tr>\n",
              "      <th>6655</th>\n",
              "      <td>359500.0</td>\n",
              "      <td>4.0</td>\n",
              "      <td>2140.0</td>\n",
              "      <td>10316.0</td>\n",
              "      <td>2.0</td>\n",
              "      <td>0.0</td>\n",
              "      <td>3.0</td>\n",
              "      <td>8.0</td>\n",
              "      <td>2140.0</td>\n",
              "      <td>0.0</td>\n",
              "      <td>22.0</td>\n",
              "      <td>22.0</td>\n",
              "      <td>0.77558</td>\n",
              "      <td>47.3537</td>\n",
              "      <td>-122.274</td>\n",
              "      <td>1920.0</td>\n",
              "      <td>11337.0</td>\n",
              "      <td>34.848779</td>\n",
              "      <td>0</td>\n",
              "      <td>801.0</td>\n",
              "      <td>30.0</td>\n",
              "      <td>6.0</td>\n",
              "    </tr>\n",
              "  </tbody>\n",
              "</table>\n",
              "</div>"
            ],
            "text/plain": [
              "          price  bedrooms  sqft_living  ...   extra  date-check  month-check\n",
              "7173   274000.0       5.0       1950.0  ...  -980.0        25.0          2.0\n",
              "15630  359000.0       4.0       2575.0  ...   598.0         8.0          8.0\n",
              "8137   270000.0       4.0       1850.0  ...  -500.0        16.0          7.0\n",
              "6656   248000.0       3.0       1330.0  ... -2331.0         7.0         11.0\n",
              "6655   359500.0       4.0       2140.0  ...   801.0        30.0          6.0\n",
              "\n",
              "[5 rows x 22 columns]"
            ]
          },
          "metadata": {
            "tags": []
          },
          "execution_count": 45
        }
      ]
    },
    {
      "cell_type": "code",
      "metadata": {
        "id": "D-6-1HMCxxHs",
        "colab": {
          "base_uri": "https://localhost:8080/",
          "height": 232
        },
        "outputId": "11d3a2ab-faab-4108-b55f-e8d4a7e9af00"
      },
      "source": [
        "val.head()"
      ],
      "execution_count": null,
      "outputs": [
        {
          "output_type": "execute_result",
          "data": {
            "text/html": [
              "<div>\n",
              "<style scoped>\n",
              "    .dataframe tbody tr th:only-of-type {\n",
              "        vertical-align: middle;\n",
              "    }\n",
              "\n",
              "    .dataframe tbody tr th {\n",
              "        vertical-align: top;\n",
              "    }\n",
              "\n",
              "    .dataframe thead th {\n",
              "        text-align: right;\n",
              "    }\n",
              "</style>\n",
              "<table border=\"1\" class=\"dataframe\">\n",
              "  <thead>\n",
              "    <tr style=\"text-align: right;\">\n",
              "      <th></th>\n",
              "      <th>bedrooms</th>\n",
              "      <th>sqft_living</th>\n",
              "      <th>sqft_lot</th>\n",
              "      <th>floors</th>\n",
              "      <th>waterfront</th>\n",
              "      <th>condition</th>\n",
              "      <th>grade</th>\n",
              "      <th>sqft_above</th>\n",
              "      <th>sqft_basement</th>\n",
              "      <th>yr_built</th>\n",
              "      <th>yr_renovated</th>\n",
              "      <th>zipcode</th>\n",
              "      <th>lat</th>\n",
              "      <th>long</th>\n",
              "      <th>sqft_living15</th>\n",
              "      <th>sqft_lot15</th>\n",
              "      <th>extra</th>\n",
              "      <th>date-check</th>\n",
              "      <th>month-check</th>\n",
              "    </tr>\n",
              "  </thead>\n",
              "  <tbody>\n",
              "    <tr>\n",
              "      <th>2909</th>\n",
              "      <td>4.0</td>\n",
              "      <td>1450.0</td>\n",
              "      <td>7560.0</td>\n",
              "      <td>1.0</td>\n",
              "      <td>0.0</td>\n",
              "      <td>3.0</td>\n",
              "      <td>7.0</td>\n",
              "      <td>1450.0</td>\n",
              "      <td>0.0</td>\n",
              "      <td>48.0</td>\n",
              "      <td>48.0</td>\n",
              "      <td>0.77558</td>\n",
              "      <td>47.3375</td>\n",
              "      <td>-122.276</td>\n",
              "      <td>1430.0</td>\n",
              "      <td>7560.0</td>\n",
              "      <td>-20.0</td>\n",
              "      <td>18.0</td>\n",
              "      <td>7.0</td>\n",
              "    </tr>\n",
              "    <tr>\n",
              "      <th>1574</th>\n",
              "      <td>3.0</td>\n",
              "      <td>1580.0</td>\n",
              "      <td>14400.0</td>\n",
              "      <td>1.0</td>\n",
              "      <td>0.0</td>\n",
              "      <td>4.0</td>\n",
              "      <td>7.0</td>\n",
              "      <td>1580.0</td>\n",
              "      <td>0.0</td>\n",
              "      <td>34.0</td>\n",
              "      <td>34.0</td>\n",
              "      <td>0.77558</td>\n",
              "      <td>47.2598</td>\n",
              "      <td>-122.281</td>\n",
              "      <td>1480.0</td>\n",
              "      <td>9600.0</td>\n",
              "      <td>-4900.0</td>\n",
              "      <td>24.0</td>\n",
              "      <td>7.0</td>\n",
              "    </tr>\n",
              "    <tr>\n",
              "      <th>2833</th>\n",
              "      <td>4.0</td>\n",
              "      <td>1820.0</td>\n",
              "      <td>8217.0</td>\n",
              "      <td>1.0</td>\n",
              "      <td>0.0</td>\n",
              "      <td>3.0</td>\n",
              "      <td>7.0</td>\n",
              "      <td>1120.0</td>\n",
              "      <td>700.0</td>\n",
              "      <td>28.0</td>\n",
              "      <td>28.0</td>\n",
              "      <td>0.77558</td>\n",
              "      <td>47.2630</td>\n",
              "      <td>-122.242</td>\n",
              "      <td>1310.0</td>\n",
              "      <td>8217.0</td>\n",
              "      <td>-510.0</td>\n",
              "      <td>27.0</td>\n",
              "      <td>9.0</td>\n",
              "    </tr>\n",
              "    <tr>\n",
              "      <th>311</th>\n",
              "      <td>4.0</td>\n",
              "      <td>1730.0</td>\n",
              "      <td>8400.0</td>\n",
              "      <td>1.0</td>\n",
              "      <td>0.0</td>\n",
              "      <td>3.0</td>\n",
              "      <td>7.0</td>\n",
              "      <td>1730.0</td>\n",
              "      <td>0.0</td>\n",
              "      <td>53.0</td>\n",
              "      <td>53.0</td>\n",
              "      <td>0.77558</td>\n",
              "      <td>47.3386</td>\n",
              "      <td>-122.288</td>\n",
              "      <td>1550.0</td>\n",
              "      <td>7920.0</td>\n",
              "      <td>-660.0</td>\n",
              "      <td>14.0</td>\n",
              "      <td>6.0</td>\n",
              "    </tr>\n",
              "    <tr>\n",
              "      <th>3088</th>\n",
              "      <td>4.0</td>\n",
              "      <td>1340.0</td>\n",
              "      <td>7920.0</td>\n",
              "      <td>1.0</td>\n",
              "      <td>0.0</td>\n",
              "      <td>4.0</td>\n",
              "      <td>7.0</td>\n",
              "      <td>1340.0</td>\n",
              "      <td>0.0</td>\n",
              "      <td>45.0</td>\n",
              "      <td>45.0</td>\n",
              "      <td>0.77558</td>\n",
              "      <td>47.2845</td>\n",
              "      <td>-122.267</td>\n",
              "      <td>1090.0</td>\n",
              "      <td>9600.0</td>\n",
              "      <td>1430.0</td>\n",
              "      <td>5.0</td>\n",
              "      <td>7.0</td>\n",
              "    </tr>\n",
              "  </tbody>\n",
              "</table>\n",
              "</div>"
            ],
            "text/plain": [
              "      bedrooms  sqft_living  sqft_lot  ...   extra  date-check  month-check\n",
              "2909       4.0       1450.0    7560.0  ...   -20.0        18.0          7.0\n",
              "1574       3.0       1580.0   14400.0  ... -4900.0        24.0          7.0\n",
              "2833       4.0       1820.0    8217.0  ...  -510.0        27.0          9.0\n",
              "311        4.0       1730.0    8400.0  ...  -660.0        14.0          6.0\n",
              "3088       4.0       1340.0    7920.0  ...  1430.0         5.0          7.0\n",
              "\n",
              "[5 rows x 19 columns]"
            ]
          },
          "metadata": {
            "tags": []
          },
          "execution_count": 46
        }
      ]
    },
    {
      "cell_type": "code",
      "metadata": {
        "id": "gfuy1c_l6J6R"
      },
      "source": [
        "A=train.copy()"
      ],
      "execution_count": null,
      "outputs": []
    },
    {
      "cell_type": "code",
      "metadata": {
        "id": "6tg84TiR6qMo"
      },
      "source": [
        "for row in A:\n",
        "  A[row]=A[row].astype(float)"
      ],
      "execution_count": null,
      "outputs": []
    },
    {
      "cell_type": "code",
      "metadata": {
        "id": "6eahKnfSz1sV"
      },
      "source": [
        "for row in train:\n",
        "  for i in range(train.shape[0]):\n",
        "    a=(train[row].values[i]-train[row].mean())\n",
        "    b=a/train[row].std()\n",
        "    #print(a,b,row)\n",
        "    A[row].values[i]=b\n",
        "    #print(A)\n",
        "#print(train.head())"
      ],
      "execution_count": null,
      "outputs": []
    },
    {
      "cell_type": "code",
      "metadata": {
        "id": "CJj_p5rq8qks"
      },
      "source": [
        "x_train,x_test,y_train,y_test=train_test_split(train,test,shuffle=True,test_size=0.2)"
      ],
      "execution_count": null,
      "outputs": []
    },
    {
      "cell_type": "code",
      "metadata": {
        "id": "MNltMNSuzJ3P",
        "colab": {
          "base_uri": "https://localhost:8080/",
          "height": 167
        },
        "outputId": "be3d0c6c-3081-43f4-e392-e0dc7982e949"
      },
      "source": [
        "best_xgb_model = xgboost.XGBRegressor(colsample_bytree=0.8,\n",
        "                 gamma=0.2,                 \n",
        "                 learning_rate=0.01,\n",
        "                 max_depth=10,\n",
        "                 min_child_weight=2.6,\n",
        "                 n_estimators=4000,                                                                    \n",
        "                 reg_alpha=0.0001,\n",
        "                 reg_lambda=10,\n",
        "                 subsample=0.7,\n",
        "                 colsample_bylevel=0.4,\n",
        "                 colsample_bynode=0.4,\n",
        "                 \n",
        "                 \n",
        "                 )\n",
        "best_xgb_model.fit(x_train,y_train)"
      ],
      "execution_count": null,
      "outputs": [
        {
          "output_type": "stream",
          "text": [
            "[13:20:25] WARNING: /workspace/src/objective/regression_obj.cu:152: reg:linear is now deprecated in favor of reg:squarederror.\n"
          ],
          "name": "stdout"
        },
        {
          "output_type": "execute_result",
          "data": {
            "text/plain": [
              "XGBRegressor(base_score=0.5, booster='gbtree', colsample_bylevel=0.4,\n",
              "             colsample_bynode=0.4, colsample_bytree=0.8, gamma=0.2,\n",
              "             importance_type='gain', learning_rate=0.01, max_delta_step=0,\n",
              "             max_depth=10, min_child_weight=2.6, missing=None,\n",
              "             n_estimators=4000, n_jobs=1, nthread=None, objective='reg:linear',\n",
              "             random_state=0, reg_alpha=0.0001, reg_lambda=10,\n",
              "             scale_pos_weight=1, seed=None, silent=None, subsample=0.7,\n",
              "             verbosity=1)"
            ]
          },
          "metadata": {
            "tags": []
          },
          "execution_count": 586
        }
      ]
    },
    {
      "cell_type": "code",
      "metadata": {
        "id": "liVXWFwY9m6T"
      },
      "source": [
        "B = best_xgb_model.predict(x_test)\n",
        "C=best_xgb_model.predict(val)\n",
        "#filename = 'submission.csv'\n",
        "#pd.DataFrame({'Id': test_dataset.Id, 'SalePrice': test_dataset.Prediction}).to_csv(filename, index=False)"
      ],
      "execution_count": null,
      "outputs": []
    },
    {
      "cell_type": "code",
      "metadata": {
        "id": "GMJBhGgp_3fc"
      },
      "source": [
        "from sklearn.metrics import r2_score\n",
        "#r2_score(y_test,B)"
      ],
      "execution_count": null,
      "outputs": []
    },
    {
      "cell_type": "code",
      "metadata": {
        "id": "BrNcaLL7D0GL"
      },
      "source": [
        "def eval(pred_test,test):\n",
        "  \n",
        "  #check=[]\n",
        "  #difference=[]\n",
        "  #log_error=[]\n",
        "  #check.append(model(train.float()))\n",
        "  for i in range(len(test)):\n",
        "    log_error=np.abs(np.log(pred_test+1)-np.log(test+1))\n",
        "    #log_error[i]=torch.log(difference[i])\n",
        "  a=np.power(log_error,2)\n",
        "  #x=np.array(a)\n",
        "  b=np.mean(a)\n",
        "  c=np.power(b,0.5)\n",
        "  #print(c)\n",
        "  return c"
      ],
      "execution_count": null,
      "outputs": []
    },
    {
      "cell_type": "code",
      "metadata": {
        "id": "022joHC-Nkyz",
        "colab": {
          "base_uri": "https://localhost:8080/",
          "height": 33
        },
        "outputId": "cad5c797-18c9-41bf-83f9-5108bfd30e1a"
      },
      "source": [
        "print(eval(B,y_test))\n",
        "#print(B.shape)\n",
        "#print(y_test.shape)"
      ],
      "execution_count": null,
      "outputs": [
        {
          "output_type": "stream",
          "text": [
            "0.11421684983267372\n"
          ],
          "name": "stdout"
        }
      ]
    },
    {
      "cell_type": "code",
      "metadata": {
        "id": "bgtIJQmwx0Ta"
      },
      "source": [
        "val1[\"price\"]=c_lgbm"
      ],
      "execution_count": null,
      "outputs": []
    },
    {
      "cell_type": "code",
      "metadata": {
        "id": "ZZmQ8IOlrFSi",
        "colab": {
          "base_uri": "https://localhost:8080/",
          "height": 195
        },
        "outputId": "54a2ddfc-edb2-4619-db62-7e0f2ff92444"
      },
      "source": [
        "val1.head()"
      ],
      "execution_count": null,
      "outputs": [
        {
          "output_type": "execute_result",
          "data": {
            "text/html": [
              "<div>\n",
              "<style scoped>\n",
              "    .dataframe tbody tr th:only-of-type {\n",
              "        vertical-align: middle;\n",
              "    }\n",
              "\n",
              "    .dataframe tbody tr th {\n",
              "        vertical-align: top;\n",
              "    }\n",
              "\n",
              "    .dataframe thead th {\n",
              "        text-align: right;\n",
              "    }\n",
              "</style>\n",
              "<table border=\"1\" class=\"dataframe\">\n",
              "  <thead>\n",
              "    <tr style=\"text-align: right;\">\n",
              "      <th></th>\n",
              "      <th>id</th>\n",
              "      <th>price</th>\n",
              "    </tr>\n",
              "  </thead>\n",
              "  <tbody>\n",
              "    <tr>\n",
              "      <th>2909</th>\n",
              "      <td>1311800220</td>\n",
              "      <td>212672.370945</td>\n",
              "    </tr>\n",
              "    <tr>\n",
              "      <th>1574</th>\n",
              "      <td>3750605620</td>\n",
              "      <td>224358.633366</td>\n",
              "    </tr>\n",
              "    <tr>\n",
              "      <th>2833</th>\n",
              "      <td>2154900330</td>\n",
              "      <td>243763.890036</td>\n",
              "    </tr>\n",
              "    <tr>\n",
              "      <th>311</th>\n",
              "      <td>1311100520</td>\n",
              "      <td>225405.715814</td>\n",
              "    </tr>\n",
              "    <tr>\n",
              "      <th>3088</th>\n",
              "      <td>3751602249</td>\n",
              "      <td>210624.684552</td>\n",
              "    </tr>\n",
              "  </tbody>\n",
              "</table>\n",
              "</div>"
            ],
            "text/plain": [
              "              id          price\n",
              "2909  1311800220  212672.370945\n",
              "1574  3750605620  224358.633366\n",
              "2833  2154900330  243763.890036\n",
              "311   1311100520  225405.715814\n",
              "3088  3751602249  210624.684552"
            ]
          },
          "metadata": {
            "tags": []
          },
          "execution_count": 725
        }
      ]
    },
    {
      "cell_type": "code",
      "metadata": {
        "id": "_MlYE9DgtUcl"
      },
      "source": [
        "val1.to_csv(\"submission62.csv\", index=False)"
      ],
      "execution_count": null,
      "outputs": []
    },
    {
      "cell_type": "code",
      "metadata": {
        "id": "e2tXE4NWeC0e"
      },
      "source": [
        "import lightgbm as lgb"
      ],
      "execution_count": null,
      "outputs": []
    },
    {
      "cell_type": "code",
      "metadata": {
        "id": "g67CcI9XQGWi",
        "colab": {
          "base_uri": "https://localhost:8080/",
          "height": 185
        },
        "outputId": "56d0bc39-e28f-4a79-c89e-e7052f12014b"
      },
      "source": [
        "best_lgbm_model=lgb.LGBMRegressor(num_leaves=1000,\n",
        "                                  max_depth=10,\n",
        "                                  learning_rate=0.01,\n",
        "                                  n_estimators=5000,\n",
        "                                  subsample_for_bin=10000,\n",
        "                                  min_split_gain=0.15,\n",
        "                                  min_child_weight=2,\n",
        "                                  min_child_samples=5,\n",
        "                                  subsample=0.6,\n",
        "                                  subsample_freq=2,\n",
        "                                  colsample_bytree=0.7,\n",
        "                                  reg_alpha=0.001,\n",
        "                                  reg_lambda=80,\n",
        "                                  feature_fraction=0.7,\n",
        "                                  bagging_fraction=0.9,\n",
        "                                  bagging_frequency=2,\n",
        "                                  importance_type='split',\n",
        "                                  min_data_in_leaf=1,\n",
        "                                  num_iterations=3500,\n",
        "                                  \n",
        "                                  \n",
        "                                  )\n",
        "best_lgbm_model.fit(X_train,y_train)"
      ],
      "execution_count": null,
      "outputs": [
        {
          "output_type": "stream",
          "text": [
            "/usr/local/lib/python3.6/dist-packages/lightgbm/engine.py:118: UserWarning: Found `num_iterations` in params. Will use it instead of argument\n",
            "  warnings.warn(\"Found `{}` in params. Will use it instead of argument\".format(alias))\n"
          ],
          "name": "stderr"
        },
        {
          "output_type": "execute_result",
          "data": {
            "text/plain": [
              "LGBMRegressor(bagging_fraction=0.9, bagging_frequency=2, boosting_type='gbdt',\n",
              "              class_weight=None, colsample_bytree=0.7, feature_fraction=0.7,\n",
              "              importance_type='split', learning_rate=0.01, max_depth=10,\n",
              "              min_child_samples=5, min_child_weight=2, min_data_in_leaf=1,\n",
              "              min_split_gain=0.15, n_estimators=5000, n_jobs=-1,\n",
              "              num_iterations=3500, num_leaves=1000, objective=None,\n",
              "              random_state=None, reg_alpha=0.001, reg_lambda=80, silent=True,\n",
              "              subsample=0.6, subsample_for_bin=10000, subsample_freq=2)"
            ]
          },
          "metadata": {
            "tags": []
          },
          "execution_count": 719
        }
      ]
    },
    {
      "cell_type": "code",
      "metadata": {
        "id": "oeBPxvkkS2gK"
      },
      "source": [
        "B_lgbm = best_lgbm_model.predict(x_test)\n",
        "C_lgbm=best_lgbm_model.predict(val)\n",
        "#filename = 'submission.csv'\n",
        "#pd.DataFrame({'Id': test_dataset.Id, 'SalePrice': test_dataset.Prediction}).to_csv(filename, index=False)"
      ],
      "execution_count": null,
      "outputs": []
    },
    {
      "cell_type": "code",
      "metadata": {
        "id": "PTP-cMZhTQps",
        "colab": {
          "base_uri": "https://localhost:8080/",
          "height": 34
        },
        "outputId": "f4f3f1f4-139f-48e5-d3c8-a8f8f7a837d7"
      },
      "source": [
        "r2_score(y_test,B_lgbm)"
      ],
      "execution_count": null,
      "outputs": [
        {
          "output_type": "execute_result",
          "data": {
            "text/plain": [
              "0.9909814721945794"
            ]
          },
          "metadata": {
            "tags": []
          },
          "execution_count": 721
        }
      ]
    },
    {
      "cell_type": "code",
      "metadata": {
        "id": "aVrTyNQzUPsp",
        "colab": {
          "base_uri": "https://localhost:8080/",
          "height": 67
        },
        "outputId": "0eaba029-4886-491c-b332-0097f201b94c"
      },
      "source": [
        "print(eval(B_lgbm,y_test))"
      ],
      "execution_count": null,
      "outputs": [
        {
          "output_type": "stream",
          "text": [
            "/usr/local/lib/python3.6/dist-packages/ipykernel_launcher.py:8: RuntimeWarning: invalid value encountered in log\n",
            "  \n"
          ],
          "name": "stderr"
        },
        {
          "output_type": "stream",
          "text": [
            "0.12993400749902848\n"
          ],
          "name": "stdout"
        }
      ]
    },
    {
      "cell_type": "code",
      "metadata": {
        "id": "rIMc0p-WyBLa"
      },
      "source": [
        "c_lgbm=C_lgbm*val[\"sqft_lot\"]"
      ],
      "execution_count": null,
      "outputs": []
    },
    {
      "cell_type": "code",
      "metadata": {
        "id": "-A7_gnZggRPc"
      },
      "source": [
        "train=train.sort_values(by=[\"lat\"])"
      ],
      "execution_count": null,
      "outputs": []
    },
    {
      "cell_type": "code",
      "metadata": {
        "id": "xwDIwi_pnmxJ"
      },
      "source": [
        "train[\"lat\"]=train[\"lat\"]-train[\"lat\"].min()"
      ],
      "execution_count": null,
      "outputs": []
    },
    {
      "cell_type": "code",
      "metadata": {
        "id": "QTDOUS75nonZ",
        "colab": {
          "base_uri": "https://localhost:8080/",
          "height": 422
        },
        "outputId": "ad0e2e62-b4c4-4078-a1fb-50abe272d922"
      },
      "source": [
        "train"
      ],
      "execution_count": null,
      "outputs": [
        {
          "output_type": "execute_result",
          "data": {
            "text/html": [
              "<div>\n",
              "<style scoped>\n",
              "    .dataframe tbody tr th:only-of-type {\n",
              "        vertical-align: middle;\n",
              "    }\n",
              "\n",
              "    .dataframe tbody tr th {\n",
              "        vertical-align: top;\n",
              "    }\n",
              "\n",
              "    .dataframe thead th {\n",
              "        text-align: right;\n",
              "    }\n",
              "</style>\n",
              "<table border=\"1\" class=\"dataframe\">\n",
              "  <thead>\n",
              "    <tr style=\"text-align: right;\">\n",
              "      <th></th>\n",
              "      <th>date</th>\n",
              "      <th>price</th>\n",
              "      <th>bedrooms</th>\n",
              "      <th>sqft_living</th>\n",
              "      <th>sqft_lot</th>\n",
              "      <th>floors</th>\n",
              "      <th>waterfront</th>\n",
              "      <th>condition</th>\n",
              "      <th>grade</th>\n",
              "      <th>sqft_above</th>\n",
              "      <th>sqft_basement</th>\n",
              "      <th>yr_built</th>\n",
              "      <th>yr_renovated</th>\n",
              "      <th>zipcode</th>\n",
              "      <th>lat</th>\n",
              "      <th>long</th>\n",
              "      <th>sqft_living15</th>\n",
              "      <th>sqft_lot15</th>\n",
              "      <th>price_sq_lot</th>\n",
              "      <th>price_check</th>\n",
              "    </tr>\n",
              "  </thead>\n",
              "  <tbody>\n",
              "    <tr>\n",
              "      <th>2587</th>\n",
              "      <td>6/24/2014</td>\n",
              "      <td>380000.0</td>\n",
              "      <td>3.0</td>\n",
              "      <td>1860.0</td>\n",
              "      <td>15559.0</td>\n",
              "      <td>2.0</td>\n",
              "      <td>0.0</td>\n",
              "      <td>4.0</td>\n",
              "      <td>7.0</td>\n",
              "      <td>1860.0</td>\n",
              "      <td>0.0</td>\n",
              "      <td>1963.0</td>\n",
              "      <td>0.0</td>\n",
              "      <td>0.666356</td>\n",
              "      <td>0.0000</td>\n",
              "      <td>-121.646</td>\n",
              "      <td>1110.0</td>\n",
              "      <td>11586.0</td>\n",
              "      <td>24.423163</td>\n",
              "      <td>0</td>\n",
              "    </tr>\n",
              "    <tr>\n",
              "      <th>10316</th>\n",
              "      <td>4/6/2015</td>\n",
              "      <td>750000.0</td>\n",
              "      <td>3.0</td>\n",
              "      <td>2350.0</td>\n",
              "      <td>715690.0</td>\n",
              "      <td>1.5</td>\n",
              "      <td>0.0</td>\n",
              "      <td>4.0</td>\n",
              "      <td>9.0</td>\n",
              "      <td>2350.0</td>\n",
              "      <td>0.0</td>\n",
              "      <td>1979.0</td>\n",
              "      <td>0.0</td>\n",
              "      <td>0.666356</td>\n",
              "      <td>0.0063</td>\n",
              "      <td>-121.971</td>\n",
              "      <td>1280.0</td>\n",
              "      <td>325393.0</td>\n",
              "      <td>1.047940</td>\n",
              "      <td>0</td>\n",
              "    </tr>\n",
              "    <tr>\n",
              "      <th>10047</th>\n",
              "      <td>6/19/2014</td>\n",
              "      <td>335000.0</td>\n",
              "      <td>4.0</td>\n",
              "      <td>2030.0</td>\n",
              "      <td>103672.0</td>\n",
              "      <td>1.0</td>\n",
              "      <td>0.0</td>\n",
              "      <td>4.0</td>\n",
              "      <td>7.0</td>\n",
              "      <td>2030.0</td>\n",
              "      <td>0.0</td>\n",
              "      <td>1969.0</td>\n",
              "      <td>0.0</td>\n",
              "      <td>0.666356</td>\n",
              "      <td>0.0088</td>\n",
              "      <td>-121.973</td>\n",
              "      <td>1560.0</td>\n",
              "      <td>325393.0</td>\n",
              "      <td>3.231345</td>\n",
              "      <td>0</td>\n",
              "    </tr>\n",
              "    <tr>\n",
              "      <th>6119</th>\n",
              "      <td>3/9/2015</td>\n",
              "      <td>245000.0</td>\n",
              "      <td>3.0</td>\n",
              "      <td>1670.0</td>\n",
              "      <td>24650.0</td>\n",
              "      <td>1.0</td>\n",
              "      <td>0.0</td>\n",
              "      <td>4.0</td>\n",
              "      <td>7.0</td>\n",
              "      <td>1670.0</td>\n",
              "      <td>0.0</td>\n",
              "      <td>1974.0</td>\n",
              "      <td>0.0</td>\n",
              "      <td>0.666356</td>\n",
              "      <td>0.0205</td>\n",
              "      <td>-122.026</td>\n",
              "      <td>1810.0</td>\n",
              "      <td>19465.0</td>\n",
              "      <td>9.939148</td>\n",
              "      <td>0</td>\n",
              "    </tr>\n",
              "    <tr>\n",
              "      <th>314</th>\n",
              "      <td>8/25/2014</td>\n",
              "      <td>360000.0</td>\n",
              "      <td>4.0</td>\n",
              "      <td>3730.0</td>\n",
              "      <td>16980.0</td>\n",
              "      <td>1.0</td>\n",
              "      <td>0.0</td>\n",
              "      <td>4.0</td>\n",
              "      <td>7.0</td>\n",
              "      <td>2150.0</td>\n",
              "      <td>1580.0</td>\n",
              "      <td>1974.0</td>\n",
              "      <td>0.0</td>\n",
              "      <td>0.666356</td>\n",
              "      <td>0.0216</td>\n",
              "      <td>-122.022</td>\n",
              "      <td>1880.0</td>\n",
              "      <td>16963.0</td>\n",
              "      <td>21.201413</td>\n",
              "      <td>0</td>\n",
              "    </tr>\n",
              "    <tr>\n",
              "      <th>...</th>\n",
              "      <td>...</td>\n",
              "      <td>...</td>\n",
              "      <td>...</td>\n",
              "      <td>...</td>\n",
              "      <td>...</td>\n",
              "      <td>...</td>\n",
              "      <td>...</td>\n",
              "      <td>...</td>\n",
              "      <td>...</td>\n",
              "      <td>...</td>\n",
              "      <td>...</td>\n",
              "      <td>...</td>\n",
              "      <td>...</td>\n",
              "      <td>...</td>\n",
              "      <td>...</td>\n",
              "      <td>...</td>\n",
              "      <td>...</td>\n",
              "      <td>...</td>\n",
              "      <td>...</td>\n",
              "      <td>...</td>\n",
              "    </tr>\n",
              "    <tr>\n",
              "      <th>10274</th>\n",
              "      <td>12/3/2014</td>\n",
              "      <td>245560.0</td>\n",
              "      <td>2.0</td>\n",
              "      <td>1260.0</td>\n",
              "      <td>9693.0</td>\n",
              "      <td>1.0</td>\n",
              "      <td>0.0</td>\n",
              "      <td>3.0</td>\n",
              "      <td>7.0</td>\n",
              "      <td>1260.0</td>\n",
              "      <td>0.0</td>\n",
              "      <td>1957.0</td>\n",
              "      <td>0.0</td>\n",
              "      <td>0.687223</td>\n",
              "      <td>0.6216</td>\n",
              "      <td>-122.365</td>\n",
              "      <td>1800.0</td>\n",
              "      <td>9693.0</td>\n",
              "      <td>25.333746</td>\n",
              "      <td>0</td>\n",
              "    </tr>\n",
              "    <tr>\n",
              "      <th>5377</th>\n",
              "      <td>3/10/2015</td>\n",
              "      <td>285000.0</td>\n",
              "      <td>4.0</td>\n",
              "      <td>2120.0</td>\n",
              "      <td>6865.0</td>\n",
              "      <td>1.0</td>\n",
              "      <td>0.0</td>\n",
              "      <td>3.0</td>\n",
              "      <td>7.0</td>\n",
              "      <td>1060.0</td>\n",
              "      <td>1060.0</td>\n",
              "      <td>1954.0</td>\n",
              "      <td>0.0</td>\n",
              "      <td>1.261600</td>\n",
              "      <td>0.6216</td>\n",
              "      <td>-122.337</td>\n",
              "      <td>1460.0</td>\n",
              "      <td>7780.0</td>\n",
              "      <td>41.514931</td>\n",
              "      <td>0</td>\n",
              "    </tr>\n",
              "    <tr>\n",
              "      <th>12533</th>\n",
              "      <td>4/12/2015</td>\n",
              "      <td>407500.0</td>\n",
              "      <td>4.0</td>\n",
              "      <td>1900.0</td>\n",
              "      <td>9075.0</td>\n",
              "      <td>2.0</td>\n",
              "      <td>0.0</td>\n",
              "      <td>3.0</td>\n",
              "      <td>7.0</td>\n",
              "      <td>1900.0</td>\n",
              "      <td>0.0</td>\n",
              "      <td>1988.0</td>\n",
              "      <td>0.0</td>\n",
              "      <td>1.261600</td>\n",
              "      <td>0.6217</td>\n",
              "      <td>-122.352</td>\n",
              "      <td>1800.0</td>\n",
              "      <td>8460.0</td>\n",
              "      <td>44.903581</td>\n",
              "      <td>0</td>\n",
              "    </tr>\n",
              "    <tr>\n",
              "      <th>13907</th>\n",
              "      <td>10/14/2014</td>\n",
              "      <td>389950.0</td>\n",
              "      <td>3.0</td>\n",
              "      <td>1580.0</td>\n",
              "      <td>9049.0</td>\n",
              "      <td>1.0</td>\n",
              "      <td>0.0</td>\n",
              "      <td>3.0</td>\n",
              "      <td>8.0</td>\n",
              "      <td>1580.0</td>\n",
              "      <td>0.0</td>\n",
              "      <td>1966.0</td>\n",
              "      <td>0.0</td>\n",
              "      <td>0.687223</td>\n",
              "      <td>0.6217</td>\n",
              "      <td>-122.375</td>\n",
              "      <td>2100.0</td>\n",
              "      <td>8446.0</td>\n",
              "      <td>43.093159</td>\n",
              "      <td>0</td>\n",
              "    </tr>\n",
              "    <tr>\n",
              "      <th>245</th>\n",
              "      <td>4/3/2015</td>\n",
              "      <td>550000.0</td>\n",
              "      <td>4.0</td>\n",
              "      <td>1800.0</td>\n",
              "      <td>7750.0</td>\n",
              "      <td>1.0</td>\n",
              "      <td>0.0</td>\n",
              "      <td>4.0</td>\n",
              "      <td>8.0</td>\n",
              "      <td>1400.0</td>\n",
              "      <td>400.0</td>\n",
              "      <td>1965.0</td>\n",
              "      <td>0.0</td>\n",
              "      <td>0.687223</td>\n",
              "      <td>0.6217</td>\n",
              "      <td>-122.384</td>\n",
              "      <td>1800.0</td>\n",
              "      <td>8275.0</td>\n",
              "      <td>70.967742</td>\n",
              "      <td>0</td>\n",
              "    </tr>\n",
              "  </tbody>\n",
              "</table>\n",
              "<p>17210 rows × 20 columns</p>\n",
              "</div>"
            ],
            "text/plain": [
              "             date     price  bedrooms  ...  sqft_lot15  price_sq_lot  price_check\n",
              "2587    6/24/2014  380000.0       3.0  ...     11586.0     24.423163            0\n",
              "10316    4/6/2015  750000.0       3.0  ...    325393.0      1.047940            0\n",
              "10047   6/19/2014  335000.0       4.0  ...    325393.0      3.231345            0\n",
              "6119     3/9/2015  245000.0       3.0  ...     19465.0      9.939148            0\n",
              "314     8/25/2014  360000.0       4.0  ...     16963.0     21.201413            0\n",
              "...           ...       ...       ...  ...         ...           ...          ...\n",
              "10274   12/3/2014  245560.0       2.0  ...      9693.0     25.333746            0\n",
              "5377    3/10/2015  285000.0       4.0  ...      7780.0     41.514931            0\n",
              "12533   4/12/2015  407500.0       4.0  ...      8460.0     44.903581            0\n",
              "13907  10/14/2014  389950.0       3.0  ...      8446.0     43.093159            0\n",
              "245      4/3/2015  550000.0       4.0  ...      8275.0     70.967742            0\n",
              "\n",
              "[17210 rows x 20 columns]"
            ]
          },
          "metadata": {
            "tags": []
          },
          "execution_count": 767
        }
      ]
    },
    {
      "cell_type": "code",
      "metadata": {
        "id": "Du5vncaYoKn-",
        "colab": {
          "base_uri": "https://localhost:8080/",
          "height": 34
        },
        "outputId": "a6ff581c-8144-4678-c09e-60a16d1b3c91"
      },
      "source": [
        "val[\"lat\"].min()"
      ],
      "execution_count": null,
      "outputs": [
        {
          "output_type": "execute_result",
          "data": {
            "text/plain": [
              "47.1593"
            ]
          },
          "metadata": {
            "tags": []
          },
          "execution_count": 551
        }
      ]
    },
    {
      "cell_type": "code",
      "metadata": {
        "id": "TqWAl-ZBo2H_",
        "colab": {
          "base_uri": "https://localhost:8080/",
          "height": 34
        },
        "outputId": "b4c4283c-c98a-444f-a3cc-14cfc35e8f60"
      },
      "source": [
        "df_train[\"lat\"].min()"
      ],
      "execution_count": null,
      "outputs": [
        {
          "output_type": "execute_result",
          "data": {
            "text/plain": [
              "47.1559"
            ]
          },
          "metadata": {
            "tags": []
          },
          "execution_count": 552
        }
      ]
    },
    {
      "cell_type": "code",
      "metadata": {
        "id": "uqJX_Mk_pFtt",
        "colab": {
          "base_uri": "https://localhost:8080/",
          "height": 235
        },
        "outputId": "349f7308-82a3-48df-cec3-f09fd7e584d0"
      },
      "source": [
        "a=0\n",
        "i=0\n",
        "z=[0]\n",
        "for j in range(train.shape[0]):\n",
        "  x=train[\"lat\"].values[j]\n",
        "  if x<a+0.05:\n",
        "    y=i\n",
        "   \n",
        "  if x>a+0.05:\n",
        "    \n",
        "    a=x\n",
        "    i=i+1\n",
        "    print(a,j,i,x)\n",
        "    z.append(i)  \n",
        "  train[\"lat\"].values[j]=y\n",
        "print(z)"
      ],
      "execution_count": null,
      "outputs": [
        {
          "output_type": "stream",
          "text": [
            "0.05010000000000048 88 1 0.05010000000000048\n",
            "0.10089999999999577 175 2 0.10089999999999577\n",
            "0.15090000000000003 767 3 0.15090000000000003\n",
            "0.2010000000000005 1945 4 0.2010000000000005\n",
            "0.2510999999999939 3136 5 0.2510999999999939\n",
            "0.30109999999999815 4051 6 0.30109999999999815\n",
            "0.3511999999999986 5525 7 0.3511999999999986\n",
            "0.4012999999999991 7859 8 0.4012999999999991\n",
            "0.4513999999999996 9878 9 0.4513999999999996\n",
            "0.5015000000000001 11883 10 0.5015000000000001\n",
            "0.5516000000000005 14643 11 0.5516000000000005\n",
            "0.6016999999999939 16547 12 0.6016999999999939\n",
            "[0, 1, 2, 3, 4, 5, 6, 7, 8, 9, 10, 11, 12]\n"
          ],
          "name": "stdout"
        }
      ]
    },
    {
      "cell_type": "code",
      "metadata": {
        "id": "86qYOTNmp_4w",
        "colab": {
          "base_uri": "https://localhost:8080/",
          "height": 302
        },
        "outputId": "766882c4-fb88-4e2a-80a5-d8d56a9d98e7"
      },
      "source": [
        "a=0\n",
        "price=0\n",
        "count=0\n",
        "y=[]\n",
        "#z=[0,1,2,3,4,5,6,7,8]\n",
        "for i in range(train.shape[0]):\n",
        "  x=train[\"lat\"].values[i]\n",
        "  \n",
        "  if x==a:\n",
        "    price+=train[\"price_sq_lot\"].values[i]\n",
        "    count=count+1\n",
        "  \n",
        "  if x>a:\n",
        "    #print(count)\n",
        "    y.append(price/count)\n",
        "    price=0\n",
        "    count=0\n",
        "    a=a+1\n",
        "y.append(price/count)\n",
        "print(y,z)\n",
        "\n",
        "plt.bar(z,y)\n",
        "plt.show()\n"
      ],
      "execution_count": null,
      "outputs": [
        {
          "output_type": "stream",
          "text": [
            "[28.056118525101834, 17.636786835240514, 30.64012726671079, 37.907509694425656, 38.432495468344065, 34.567349471378726, 39.18558340818424, 94.20177960755699, 116.89981768436563, 167.75484380451223, 143.7504867476225, 61.36270623937532, 47.208039584955834] [0, 1, 2, 3, 4, 5, 6, 7, 8, 9, 10, 11, 12]\n"
          ],
          "name": "stdout"
        },
        {
          "output_type": "display_data",
          "data": {
            "image/png": "[encoded data removed]",
            "text/plain": [
              "<Figure size 432x288 with 1 Axes>"
            ]
          },
          "metadata": {
            "tags": []
          }
        }
      ]
    },
    {
      "cell_type": "code",
      "metadata": {
        "id": "j8lLm9BBxPTu",
        "colab": {
          "base_uri": "https://localhost:8080/",
          "height": 54
        },
        "outputId": "4387f0e4-456b-46a5-f0f9-3ffb651981d5"
      },
      "source": [
        "a=statistics.mean(y)\n",
        "b=statistics.stdev(y)\n",
        "for i in range(len(y)):\n",
        "  \n",
        "  y[i]=(y[i])/a\n",
        "print(y)"
      ],
      "execution_count": null,
      "outputs": [
        {
          "output_type": "stream",
          "text": [
            "[0.4252891685272178, 0.2673475449549554, 0.464458910706725, 0.5746216556811192, 0.5825796618136716, 0.5239897779059963, 0.5939953586598319, 1.4279593411054967, 1.7720279524584293, 2.542914764713532, 2.1790442940131296, 0.9301676670554031, 0.7156039024044927]\n"
          ],
          "name": "stdout"
        }
      ]
    },
    {
      "cell_type": "code",
      "metadata": {
        "id": "4-pJQnnywUf9"
      },
      "source": [
        "j=0\n",
        "\n",
        "for i in range(val.shape[0]):\n",
        "  \n",
        "  x=train[\"lat\"].values[i]\n",
        "  \n",
        "  if x==j:\n",
        "    train[\"lat\"].values[i]=y[j]\n",
        "  if x>j:\n",
        "    j=j+1\n"
      ],
      "execution_count": null,
      "outputs": []
    },
    {
      "cell_type": "code",
      "metadata": {
        "id": "ee8EAz-owtON",
        "colab": {
          "base_uri": "https://localhost:8080/",
          "height": 422
        },
        "outputId": "f2b50308-672a-4676-e56d-07f4a9f1aed2"
      },
      "source": [
        "train"
      ],
      "execution_count": null,
      "outputs": [
        {
          "output_type": "execute_result",
          "data": {
            "text/html": [
              "<div>\n",
              "<style scoped>\n",
              "    .dataframe tbody tr th:only-of-type {\n",
              "        vertical-align: middle;\n",
              "    }\n",
              "\n",
              "    .dataframe tbody tr th {\n",
              "        vertical-align: top;\n",
              "    }\n",
              "\n",
              "    .dataframe thead th {\n",
              "        text-align: right;\n",
              "    }\n",
              "</style>\n",
              "<table border=\"1\" class=\"dataframe\">\n",
              "  <thead>\n",
              "    <tr style=\"text-align: right;\">\n",
              "      <th></th>\n",
              "      <th>date</th>\n",
              "      <th>price</th>\n",
              "      <th>bedrooms</th>\n",
              "      <th>sqft_living</th>\n",
              "      <th>sqft_lot</th>\n",
              "      <th>floors</th>\n",
              "      <th>waterfront</th>\n",
              "      <th>condition</th>\n",
              "      <th>grade</th>\n",
              "      <th>sqft_above</th>\n",
              "      <th>sqft_basement</th>\n",
              "      <th>yr_built</th>\n",
              "      <th>yr_renovated</th>\n",
              "      <th>zipcode</th>\n",
              "      <th>lat</th>\n",
              "      <th>long</th>\n",
              "      <th>sqft_living15</th>\n",
              "      <th>sqft_lot15</th>\n",
              "      <th>price_sq_lot</th>\n",
              "      <th>price_check</th>\n",
              "    </tr>\n",
              "  </thead>\n",
              "  <tbody>\n",
              "    <tr>\n",
              "      <th>2587</th>\n",
              "      <td>6/24/2014</td>\n",
              "      <td>380000.0</td>\n",
              "      <td>3.0</td>\n",
              "      <td>1860.0</td>\n",
              "      <td>15559.0</td>\n",
              "      <td>2.0</td>\n",
              "      <td>0.0</td>\n",
              "      <td>4.0</td>\n",
              "      <td>7.0</td>\n",
              "      <td>1860.0</td>\n",
              "      <td>0.0</td>\n",
              "      <td>1963.0</td>\n",
              "      <td>0.0</td>\n",
              "      <td>0.666356</td>\n",
              "      <td>0.425289</td>\n",
              "      <td>-121.646</td>\n",
              "      <td>1110.0</td>\n",
              "      <td>11586.0</td>\n",
              "      <td>24.423163</td>\n",
              "      <td>0</td>\n",
              "    </tr>\n",
              "    <tr>\n",
              "      <th>10316</th>\n",
              "      <td>4/6/2015</td>\n",
              "      <td>750000.0</td>\n",
              "      <td>3.0</td>\n",
              "      <td>2350.0</td>\n",
              "      <td>715690.0</td>\n",
              "      <td>1.5</td>\n",
              "      <td>0.0</td>\n",
              "      <td>4.0</td>\n",
              "      <td>9.0</td>\n",
              "      <td>2350.0</td>\n",
              "      <td>0.0</td>\n",
              "      <td>1979.0</td>\n",
              "      <td>0.0</td>\n",
              "      <td>0.666356</td>\n",
              "      <td>0.425289</td>\n",
              "      <td>-121.971</td>\n",
              "      <td>1280.0</td>\n",
              "      <td>325393.0</td>\n",
              "      <td>1.047940</td>\n",
              "      <td>0</td>\n",
              "    </tr>\n",
              "    <tr>\n",
              "      <th>10047</th>\n",
              "      <td>6/19/2014</td>\n",
              "      <td>335000.0</td>\n",
              "      <td>4.0</td>\n",
              "      <td>2030.0</td>\n",
              "      <td>103672.0</td>\n",
              "      <td>1.0</td>\n",
              "      <td>0.0</td>\n",
              "      <td>4.0</td>\n",
              "      <td>7.0</td>\n",
              "      <td>2030.0</td>\n",
              "      <td>0.0</td>\n",
              "      <td>1969.0</td>\n",
              "      <td>0.0</td>\n",
              "      <td>0.666356</td>\n",
              "      <td>0.425289</td>\n",
              "      <td>-121.973</td>\n",
              "      <td>1560.0</td>\n",
              "      <td>325393.0</td>\n",
              "      <td>3.231345</td>\n",
              "      <td>0</td>\n",
              "    </tr>\n",
              "    <tr>\n",
              "      <th>6119</th>\n",
              "      <td>3/9/2015</td>\n",
              "      <td>245000.0</td>\n",
              "      <td>3.0</td>\n",
              "      <td>1670.0</td>\n",
              "      <td>24650.0</td>\n",
              "      <td>1.0</td>\n",
              "      <td>0.0</td>\n",
              "      <td>4.0</td>\n",
              "      <td>7.0</td>\n",
              "      <td>1670.0</td>\n",
              "      <td>0.0</td>\n",
              "      <td>1974.0</td>\n",
              "      <td>0.0</td>\n",
              "      <td>0.666356</td>\n",
              "      <td>0.425289</td>\n",
              "      <td>-122.026</td>\n",
              "      <td>1810.0</td>\n",
              "      <td>19465.0</td>\n",
              "      <td>9.939148</td>\n",
              "      <td>0</td>\n",
              "    </tr>\n",
              "    <tr>\n",
              "      <th>314</th>\n",
              "      <td>8/25/2014</td>\n",
              "      <td>360000.0</td>\n",
              "      <td>4.0</td>\n",
              "      <td>3730.0</td>\n",
              "      <td>16980.0</td>\n",
              "      <td>1.0</td>\n",
              "      <td>0.0</td>\n",
              "      <td>4.0</td>\n",
              "      <td>7.0</td>\n",
              "      <td>2150.0</td>\n",
              "      <td>1580.0</td>\n",
              "      <td>1974.0</td>\n",
              "      <td>0.0</td>\n",
              "      <td>0.666356</td>\n",
              "      <td>0.425289</td>\n",
              "      <td>-122.022</td>\n",
              "      <td>1880.0</td>\n",
              "      <td>16963.0</td>\n",
              "      <td>21.201413</td>\n",
              "      <td>0</td>\n",
              "    </tr>\n",
              "    <tr>\n",
              "      <th>...</th>\n",
              "      <td>...</td>\n",
              "      <td>...</td>\n",
              "      <td>...</td>\n",
              "      <td>...</td>\n",
              "      <td>...</td>\n",
              "      <td>...</td>\n",
              "      <td>...</td>\n",
              "      <td>...</td>\n",
              "      <td>...</td>\n",
              "      <td>...</td>\n",
              "      <td>...</td>\n",
              "      <td>...</td>\n",
              "      <td>...</td>\n",
              "      <td>...</td>\n",
              "      <td>...</td>\n",
              "      <td>...</td>\n",
              "      <td>...</td>\n",
              "      <td>...</td>\n",
              "      <td>...</td>\n",
              "      <td>...</td>\n",
              "    </tr>\n",
              "    <tr>\n",
              "      <th>10274</th>\n",
              "      <td>12/3/2014</td>\n",
              "      <td>245560.0</td>\n",
              "      <td>2.0</td>\n",
              "      <td>1260.0</td>\n",
              "      <td>9693.0</td>\n",
              "      <td>1.0</td>\n",
              "      <td>0.0</td>\n",
              "      <td>3.0</td>\n",
              "      <td>7.0</td>\n",
              "      <td>1260.0</td>\n",
              "      <td>0.0</td>\n",
              "      <td>1957.0</td>\n",
              "      <td>0.0</td>\n",
              "      <td>0.687223</td>\n",
              "      <td>12.000000</td>\n",
              "      <td>-122.365</td>\n",
              "      <td>1800.0</td>\n",
              "      <td>9693.0</td>\n",
              "      <td>25.333746</td>\n",
              "      <td>0</td>\n",
              "    </tr>\n",
              "    <tr>\n",
              "      <th>5377</th>\n",
              "      <td>3/10/2015</td>\n",
              "      <td>285000.0</td>\n",
              "      <td>4.0</td>\n",
              "      <td>2120.0</td>\n",
              "      <td>6865.0</td>\n",
              "      <td>1.0</td>\n",
              "      <td>0.0</td>\n",
              "      <td>3.0</td>\n",
              "      <td>7.0</td>\n",
              "      <td>1060.0</td>\n",
              "      <td>1060.0</td>\n",
              "      <td>1954.0</td>\n",
              "      <td>0.0</td>\n",
              "      <td>1.261600</td>\n",
              "      <td>12.000000</td>\n",
              "      <td>-122.337</td>\n",
              "      <td>1460.0</td>\n",
              "      <td>7780.0</td>\n",
              "      <td>41.514931</td>\n",
              "      <td>0</td>\n",
              "    </tr>\n",
              "    <tr>\n",
              "      <th>12533</th>\n",
              "      <td>4/12/2015</td>\n",
              "      <td>407500.0</td>\n",
              "      <td>4.0</td>\n",
              "      <td>1900.0</td>\n",
              "      <td>9075.0</td>\n",
              "      <td>2.0</td>\n",
              "      <td>0.0</td>\n",
              "      <td>3.0</td>\n",
              "      <td>7.0</td>\n",
              "      <td>1900.0</td>\n",
              "      <td>0.0</td>\n",
              "      <td>1988.0</td>\n",
              "      <td>0.0</td>\n",
              "      <td>1.261600</td>\n",
              "      <td>12.000000</td>\n",
              "      <td>-122.352</td>\n",
              "      <td>1800.0</td>\n",
              "      <td>8460.0</td>\n",
              "      <td>44.903581</td>\n",
              "      <td>0</td>\n",
              "    </tr>\n",
              "    <tr>\n",
              "      <th>13907</th>\n",
              "      <td>10/14/2014</td>\n",
              "      <td>389950.0</td>\n",
              "      <td>3.0</td>\n",
              "      <td>1580.0</td>\n",
              "      <td>9049.0</td>\n",
              "      <td>1.0</td>\n",
              "      <td>0.0</td>\n",
              "      <td>3.0</td>\n",
              "      <td>8.0</td>\n",
              "      <td>1580.0</td>\n",
              "      <td>0.0</td>\n",
              "      <td>1966.0</td>\n",
              "      <td>0.0</td>\n",
              "      <td>0.687223</td>\n",
              "      <td>12.000000</td>\n",
              "      <td>-122.375</td>\n",
              "      <td>2100.0</td>\n",
              "      <td>8446.0</td>\n",
              "      <td>43.093159</td>\n",
              "      <td>0</td>\n",
              "    </tr>\n",
              "    <tr>\n",
              "      <th>245</th>\n",
              "      <td>4/3/2015</td>\n",
              "      <td>550000.0</td>\n",
              "      <td>4.0</td>\n",
              "      <td>1800.0</td>\n",
              "      <td>7750.0</td>\n",
              "      <td>1.0</td>\n",
              "      <td>0.0</td>\n",
              "      <td>4.0</td>\n",
              "      <td>8.0</td>\n",
              "      <td>1400.0</td>\n",
              "      <td>400.0</td>\n",
              "      <td>1965.0</td>\n",
              "      <td>0.0</td>\n",
              "      <td>0.687223</td>\n",
              "      <td>12.000000</td>\n",
              "      <td>-122.384</td>\n",
              "      <td>1800.0</td>\n",
              "      <td>8275.0</td>\n",
              "      <td>70.967742</td>\n",
              "      <td>0</td>\n",
              "    </tr>\n",
              "  </tbody>\n",
              "</table>\n",
              "<p>17210 rows × 20 columns</p>\n",
              "</div>"
            ],
            "text/plain": [
              "             date     price  bedrooms  ...  sqft_lot15  price_sq_lot  price_check\n",
              "2587    6/24/2014  380000.0       3.0  ...     11586.0     24.423163            0\n",
              "10316    4/6/2015  750000.0       3.0  ...    325393.0      1.047940            0\n",
              "10047   6/19/2014  335000.0       4.0  ...    325393.0      3.231345            0\n",
              "6119     3/9/2015  245000.0       3.0  ...     19465.0      9.939148            0\n",
              "314     8/25/2014  360000.0       4.0  ...     16963.0     21.201413            0\n",
              "...           ...       ...       ...  ...         ...           ...          ...\n",
              "10274   12/3/2014  245560.0       2.0  ...      9693.0     25.333746            0\n",
              "5377    3/10/2015  285000.0       4.0  ...      7780.0     41.514931            0\n",
              "12533   4/12/2015  407500.0       4.0  ...      8460.0     44.903581            0\n",
              "13907  10/14/2014  389950.0       3.0  ...      8446.0     43.093159            0\n",
              "245      4/3/2015  550000.0       4.0  ...      8275.0     70.967742            0\n",
              "\n",
              "[17210 rows x 20 columns]"
            ]
          },
          "metadata": {
            "tags": []
          },
          "execution_count": 772
        }
      ]
    },
    {
      "cell_type": "code",
      "metadata": {
        "id": "2kcMtRD9xlYO",
        "colab": {
          "base_uri": "https://localhost:8080/",
          "height": 299
        },
        "outputId": "67d3ab9d-8095-422f-a4bc-0941f55d3183"
      },
      "source": [
        "path=\"/content/Data.csv\"\r\n",
        "df=pd.read_csv(path)\r\n",
        "df.head()"
      ],
      "execution_count": null,
      "outputs": [
        {
          "output_type": "execute_result",
          "data": {
            "text/html": [
              "<div>\n",
              "<style scoped>\n",
              "    .dataframe tbody tr th:only-of-type {\n",
              "        vertical-align: middle;\n",
              "    }\n",
              "\n",
              "    .dataframe tbody tr th {\n",
              "        vertical-align: top;\n",
              "    }\n",
              "\n",
              "    .dataframe thead th {\n",
              "        text-align: right;\n",
              "    }\n",
              "</style>\n",
              "<table border=\"1\" class=\"dataframe\">\n",
              "  <thead>\n",
              "    <tr style=\"text-align: right;\">\n",
              "      <th></th>\n",
              "      <th>Area in sq.ft</th>\n",
              "      <th>Width of road in ft</th>\n",
              "      <th>Crimes per month</th>\n",
              "      <th>Average household income</th>\n",
              "      <th>Distance to railway station in kms</th>\n",
              "      <th>Distance to airport in kms</th>\n",
              "      <th>Distance to religious places in kms</th>\n",
              "      <th>Distance from slum in kms</th>\n",
              "      <th>Distance to state run liquor shop in kms</th>\n",
              "      <th>Education quality</th>\n",
              "      <th>Sports facility</th>\n",
              "      <th>Local traffic</th>\n",
              "      <th>Quality of life</th>\n",
              "      <th>Access to supermarket</th>\n",
              "      <th>Pollution levels</th>\n",
              "      <th>Medical treatment</th>\n",
              "      <th>Road condition</th>\n",
              "      <th>Price in Rupees</th>\n",
              "    </tr>\n",
              "  </thead>\n",
              "  <tbody>\n",
              "    <tr>\n",
              "      <th>0</th>\n",
              "      <td>164.972723</td>\n",
              "      <td>9.915223</td>\n",
              "      <td>12</td>\n",
              "      <td>1.635741e+04</td>\n",
              "      <td>6.775366</td>\n",
              "      <td>27.487403</td>\n",
              "      <td>4.155237</td>\n",
              "      <td>0.926085</td>\n",
              "      <td>0.936833</td>\n",
              "      <td>0.809318</td>\n",
              "      <td>0.496252</td>\n",
              "      <td>0.356807</td>\n",
              "      <td>0.011381</td>\n",
              "      <td>0.428218</td>\n",
              "      <td>0.482694</td>\n",
              "      <td>0.567724</td>\n",
              "      <td>0.342930</td>\n",
              "      <td>2.068834e+06</td>\n",
              "    </tr>\n",
              "    <tr>\n",
              "      <th>1</th>\n",
              "      <td>2723.900267</td>\n",
              "      <td>44.604048</td>\n",
              "      <td>9</td>\n",
              "      <td>1.214970e+06</td>\n",
              "      <td>18.999673</td>\n",
              "      <td>5.340053</td>\n",
              "      <td>3.937164</td>\n",
              "      <td>1.070621</td>\n",
              "      <td>1.088449</td>\n",
              "      <td>0.777376</td>\n",
              "      <td>0.438375</td>\n",
              "      <td>0.650271</td>\n",
              "      <td>0.406721</td>\n",
              "      <td>0.846581</td>\n",
              "      <td>0.682329</td>\n",
              "      <td>0.700829</td>\n",
              "      <td>0.576454</td>\n",
              "      <td>4.690106e+07</td>\n",
              "    </tr>\n",
              "    <tr>\n",
              "      <th>2</th>\n",
              "      <td>2432.995477</td>\n",
              "      <td>28.897256</td>\n",
              "      <td>8</td>\n",
              "      <td>7.030689e+05</td>\n",
              "      <td>4.990584</td>\n",
              "      <td>22.529498</td>\n",
              "      <td>0.039635</td>\n",
              "      <td>4.985725</td>\n",
              "      <td>5.031872</td>\n",
              "      <td>0.006053</td>\n",
              "      <td>0.941866</td>\n",
              "      <td>0.687963</td>\n",
              "      <td>0.470225</td>\n",
              "      <td>0.610037</td>\n",
              "      <td>0.896260</td>\n",
              "      <td>0.100827</td>\n",
              "      <td>0.815345</td>\n",
              "      <td>4.502143e+07</td>\n",
              "    </tr>\n",
              "    <tr>\n",
              "      <th>3</th>\n",
              "      <td>1420.784809</td>\n",
              "      <td>41.560910</td>\n",
              "      <td>12</td>\n",
              "      <td>5.904911e+05</td>\n",
              "      <td>7.788671</td>\n",
              "      <td>10.524455</td>\n",
              "      <td>4.104630</td>\n",
              "      <td>0.902182</td>\n",
              "      <td>0.947724</td>\n",
              "      <td>0.812495</td>\n",
              "      <td>0.296451</td>\n",
              "      <td>0.191345</td>\n",
              "      <td>0.974053</td>\n",
              "      <td>0.939640</td>\n",
              "      <td>0.556187</td>\n",
              "      <td>0.761762</td>\n",
              "      <td>0.858401</td>\n",
              "      <td>3.350062e+07</td>\n",
              "    </tr>\n",
              "    <tr>\n",
              "      <th>4</th>\n",
              "      <td>4182.860620</td>\n",
              "      <td>35.240153</td>\n",
              "      <td>20</td>\n",
              "      <td>1.474046e+06</td>\n",
              "      <td>9.846121</td>\n",
              "      <td>8.481228</td>\n",
              "      <td>3.259715</td>\n",
              "      <td>1.806652</td>\n",
              "      <td>1.835332</td>\n",
              "      <td>0.636731</td>\n",
              "      <td>0.875282</td>\n",
              "      <td>0.502766</td>\n",
              "      <td>0.844646</td>\n",
              "      <td>0.753803</td>\n",
              "      <td>0.105140</td>\n",
              "      <td>0.768884</td>\n",
              "      <td>0.675485</td>\n",
              "      <td>9.434848e+07</td>\n",
              "    </tr>\n",
              "  </tbody>\n",
              "</table>\n",
              "</div>"
            ],
            "text/plain": [
              "   Area in sq.ft  Width of road in ft  ...  Road condition  Price in Rupees\n",
              "0     164.972723             9.915223  ...        0.342930     2.068834e+06\n",
              "1    2723.900267            44.604048  ...        0.576454     4.690106e+07\n",
              "2    2432.995477            28.897256  ...        0.815345     4.502143e+07\n",
              "3    1420.784809            41.560910  ...        0.858401     3.350062e+07\n",
              "4    4182.860620            35.240153  ...        0.675485     9.434848e+07\n",
              "\n",
              "[5 rows x 18 columns]"
            ]
          },
          "metadata": {
            "tags": []
          },
          "execution_count": 2
        }
      ]
    },
    {
      "cell_type": "code",
      "metadata": {
        "id": "IKnRtNseEswe"
      },
      "source": [
        ""
      ],
      "execution_count": null,
      "outputs": []
    }
  ]
}